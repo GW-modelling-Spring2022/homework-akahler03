{
  "cells": [
    {
      "cell_type": "markdown",
      "metadata": {
        "id": "RaVDQwqfxPZI"
      },
      "source": [
        "# HW 12: The Big Challenge\n",
        "## Abigail Kahler, HWRS 582\n",
        "\n",
        "## Model Description \n",
        "This is a steady state, layered box model with recharge.\n",
        "\n",
        "#### Dimensions: \n",
        "- 50 by 50 by 1\n",
        "- dx = dy = 1000 m\n",
        "- dz = 150 m  \n",
        "\n",
        "#### Topography\n",
        "- Bottom of the domain is flat, bottom layer is 40m thick\n",
        "- Middle layer is also flat, and 5 m thick\n",
        "- Top layer elevation is provided in BASE_TOP_ELEV_CSV\n",
        "\n",
        "#### Subsurface Properties: \n",
        "- Homogeneous within each of three layers \n",
        "- K top and bottom layers = 8.5 m/day in x, y and z.\n",
        "- K middle layer = same as top and bottom for leftmost 20 columns\n",
        "- K middle layer: 0.0001 m/day in z direction for rightmost 30 columns \n",
        "- Porosity = 0.1\n",
        "- Specific yield = 0.1\n",
        "- Storage coefficient=0.0001   \n",
        "\n",
        "#### Boundary Conditions: \n",
        " - Right boundary for all layers is defined by a constant head of 70 m relative to the datum (located at bottom of domain).\n",
        " - Left, top, and bottom boundaries are no flow.\n",
        " \n",
        "#### Stream Properties: \n",
        "- Inflow to first reach = 0 m3/d\n",
        "- Streambed slope = 0.001 m/m\n",
        "- Streambed rough = 0.04\n",
        "- Streambed width = 1 m\n",
        "- Streambed K = 1.36 x horizontal K of top layer\n",
        "- Streambed thickness = 1 m\n",
        "- Stream bottom depth = 2 m #to set stream 1 m below ground surface\n",
        "- Stage = .5 m\n",
        "\n",
        "#### Well: \n",
        " - Town pumping well\n",
        "     - Located at row 21, column 38 screened in bottom layer\n",
        "     - Pumping at a rate of 1500 m^3/day \n",
        "     - Some treated water returned to stream at column 25\n",
        "\n",
        "  - Ag pumping well\n",
        "    - Screen in top layer, row 12, columns 14\n",
        "    - Pumping rate = crop water demand plus 20% for excess irrigation\n",
        "      plus 30% for irrigation efficiency\n",
        "    - Pumping rate wheat = 3000 m/day\n",
        "    - Pumping rate pistachios = 4500 m/day\n",
        "    - Pumping rate cotton = 6000 m/day\n",
        "     "
      ]
    },
    {
      "cell_type": "markdown",
      "metadata": {
        "id": "PmcCUnZTxPZM"
      },
      "source": [
        "## 1. Setup the environment"
      ]
    },
    {
      "cell_type": "code",
      "execution_count": 1,
      "metadata": {
        "id": "Gqqw30GjxPZN"
      },
      "outputs": [],
      "source": [
        "#the basics\n",
        "import flopy\n",
        "import numpy as np\n",
        "import matplotlib as mp\n",
        "import os\n",
        "\n",
        "#additional analysis tools\n",
        "import flopy.utils.binaryfile as bf\n",
        "from mpl_toolkits.mplot3d import Axes3D\n",
        "import matplotlib.pyplot as plt\n",
        "from matplotlib import cm\n",
        "from matplotlib.ticker import LinearLocator, FormatStrFormatter\n",
        "import csv\n",
        "from matplotlib import ticker\n",
        "\n",
        "#jupyter specific--included to show plots in notebook\n",
        "%matplotlib inline \n",
        "\n"
      ]
    },
    {
      "cell_type": "markdown",
      "metadata": {
        "id": "IWZreoCWxPZO"
      },
      "source": [
        "## 2. Setup the input variables "
      ]
    },
    {
      "cell_type": "code",
      "execution_count": 2,
      "metadata": {
        "id": "8dk8RNMKxPZO",
        "outputId": "186cbd65-dba0-4722-a7d0-d0cb01123745"
      },
      "outputs": [],
      "source": [
        "## model directory\n",
        "moddir= \"C:/Users/tento/Documents/GW_Modeling/homework-akahler03/Working/mf2005.exe\"\n",
        "\n",
        "## Discretization\n",
        "nrow = 50 #number of rows\n",
        "ncol = 50 #number of columns\n",
        "nlay = 3  #number of layers\n",
        "\n",
        "dx= 1000 #width of grid cells in x direction \n",
        "dy= 1000 #width of grid cells in y direction \n",
        "\n",
        "Lx = ncol*dx  #width of domain in x\n",
        "Ly = nrow*dy #width of domain in y\n",
        "\n",
        "with open('BASE_top_elev.csv', 'r', encoding='utf-8-sig') as reader: \n",
        "    ztop = np.genfromtxt(reader, dtype=float, delimiter=',') # top elevation of top layer (import from csv file) (dim: nrow,ncol)\n",
        "\n",
        "zbot = 0.     #bottom elevation\n",
        "dz = (ztop - zbot) / nlay #cell height in z direction\n",
        "\n",
        "## Timing\n",
        "nper = 1 #number of stress periods \n",
        "steady = [True] #list noting the stress period type\n",
        "\n",
        "## Subsurface properties\n",
        "K_xyz = 8.5   # m/day horizontal hydraulic conductivity in x, y, z \n",
        "K_mid_z = 0.1    #assign vertical hydraulic conductivity (along z axis)\n",
        "n = 0.1        #assign porosity\n",
        "Ss = 0.0001      #assign storage coefficient\n",
        "Sy = 0.1        #assign specific yield\n",
        "uncnf = 1       #0=confined, >0 = unconfined\n",
        "\n",
        "## Recharge\n",
        "recharge = 4e-5 #m/day\n",
        "\n",
        "## Well\n",
        "#pumping = -500 #m3/day  #given\n",
        "#well_xy= [2500, 2500] #xy location of well \n",
        "#well_row = np.floor((nrow-1)-(well_xy[1]/dy)) #convert the y location to a row\n",
        "#well_col=np.floor(well_xy[0]/dx-1) #convert the x location to a column\n",
        "#well_loc = (0,well_row,well_col) #Well loc should be layer, row, column\n",
        "#print(well_loc)\n",
        "#print(well_col)\n",
        "\n",
        "\n",
        "## Boundary conditions\n",
        "h_right = 70"
      ]
    },
    {
      "cell_type": "markdown",
      "metadata": {
        "id": "_bGqT9IHxPZR"
      },
      "source": [
        "## 4. Setup and run MODFLOW for three scenarios"
      ]
    },
    {
      "cell_type": "markdown",
      "metadata": {
        "id": "cgMTSEA7xPZR"
      },
      "source": [
        "#### 4.1 Model Run 1: No Town No Ag (NTNA)"
      ]
    },
    {
      "cell_type": "code",
      "execution_count": 3,
      "metadata": {
        "id": "sO-ERsbGxPZS",
        "outputId": "31defe8f-9fc8-4966-d7f9-e30743e982d2"
      },
      "outputs": [
        {
          "data": {
            "image/png": "[encoded data removed]",
            "text/plain": [
              "<Figure size 432x288 with 1 Axes>"
            ]
          },
          "metadata": {
            "needs_background": "light"
          },
          "output_type": "display_data"
        },
        {
          "name": "stdout",
          "output_type": "stream",
          "text": [
            "FloPy is using the following executable to run the model: C:/Users/tento/Documents/GW_Modeling/homework-akahler03/Working/mf2005.exe\n",
            "\n",
            "                                  MODFLOW-2005     \n",
            "    U.S. GEOLOGICAL SURVEY MODULAR FINITE-DIFFERENCE GROUND-WATER FLOW MODEL\n",
            "                             Version 1.11.00 8/8/2013                        \n",
            "\n",
            " Using NAME file: NTNA.nam \n",
            " Run start date and time (yyyy/mm/dd hh:mm:ss): 2022/04/18 19:38:47\n",
            "\n",
            " Solving:  Stress period:     1    Time step:     1    Ground-Water Flow Eqn.\n",
            " Run end date and time (yyyy/mm/dd hh:mm:ss): 2022/04/18 19:38:47\n",
            " Elapsed run time:  0.167 Seconds\n",
            "\n",
            "  Normal termination of simulation\n"
          ]
        }
      ],
      "source": [
        "#Initialize the model\n",
        "modelname1 = \"NTNA\"    #No Town No Ag = steady state with no pumping from town well\n",
        "m1 = flopy.modflow.Modflow(modelname1, exe_name = moddir)\n",
        "\n",
        "## Make some changes to the parameters\n",
        "#nlay_3lay=3  #two layers instead of 1\n",
        "botm = np.zeros((nlay,nrow,ncol)) # initialize array of zeros for bottom elevation for each model cell (dim: nlay,nrow,ncol)\n",
        "botm[0,:,:] = 45   # bottom elevation of top layer (0) is 45 m \n",
        "botm[1,:,:] = 40   # bottom elevation of middle layer (1) is 40 m\n",
        "\n",
        "## Make arrays for the K values\n",
        "Kz = np.zeros((nlay,nrow,ncol))     # define an array of zeros the size of the model grid (nlay, nrow, ncol)\n",
        "Kz[:,:,:] = K_xyz                   # assign the original value to the entire array\n",
        "Kz[1,20:-1,:] = K_mid_z             # assign middle layer Kz in right half of domain\n",
        "\n",
        "Kh = np.zeros((nlay,nrow,ncol))     # define an array of zeros the size of the model grid (nlay, nrow, ncol)\n",
        "Kh[:,:,:] = K_xyz                  # assign the original value to the entire array\n",
        "\n",
        "#Create dis object\n",
        "dis = flopy.modflow.ModflowDis(model=m1, nlay=nlay, nrow=nrow, ncol=ncol, \n",
        "                               delr=dx, delc=dy, top=ztop, botm=botm, \n",
        "                               itmuni = 4, lenuni = 2, \n",
        "                               nper=nper, steady=steady)\n",
        "\n",
        "\n",
        "# Boundary and initial conditions - bas\n",
        "#Define cell activity (IBOUND)\n",
        "#ibound = np.ones((nlay, nrow, ncol), dtype=np.int32) #integer array of dim (z,y,x), makes all cells active                                                     \n",
        "#ibound[:,:,0] = -1          #replace leftmost column (all zs, all ys, first x) with -1 to indicate constant head\n",
        "#ibound[:,:,49] = -1          #replace rightmost column (all zs, all ys, first x) with -1 to indicate constant head\n",
        "ibound = np.ones((nlay, nrow, ncol), dtype=np.int32)\n",
        "ibound[:, :, -1] = -1   #right boundary of constant head\n",
        "ibound[:,:,0] = 0       #left boundary of no flow\n",
        "ibound[:,0,:] = 0       #top boundary of no flow\n",
        "ibound[:,-1,:] = 0      #bottom boundary of no flow\n",
        "\n",
        "#Impermeable Bedrock\n",
        "#Top layer - upper and lower left\n",
        "for i in range(0,6):\n",
        "    ibound[0:, i, 0:6-i] = 0\n",
        "for i in range(0,6):\n",
        "    ibound[0:, 44+i, 0:1+i] = 0\n",
        "\n",
        "#Middle layer - upper and lower left\n",
        "for i in range(0,8):\n",
        "    ibound[1, i, 0:8-i] = 0\n",
        "#for i in range(0,8):\n",
        "#    ibound[1, 42+i, 0:1+i] = 0\n",
        "\n",
        "#Bottom layer - upper and lower left\n",
        "#for i in range(0,10):\n",
        "#    ibound[2, i, 0:10-i] = 0\n",
        "\n",
        "\n",
        "\n",
        "#setup initial heads as 1 everywhere except on the boundaries\n",
        "H_init = np.ones((nlay, nrow, ncol), dtype=np.float32)  #float array (i.e. decimal), sets all heads to 1.0\n",
        "H_init[:, :, :] = h_right    #initialize the entire domain to the right head value\n",
        "#H_init[:, :, 0] = h_left    #replace first (left) col with desired head value\n",
        "bas = flopy.modflow.ModflowBas(m1, ibound=ibound, strt=H_init)\n",
        "\n",
        "#------------------------------------------------------\n",
        "#Model Map\n",
        "#plot grid and ibound\n",
        "modelmap = flopy.plot.PlotMapView(model=m1, layer=1)\n",
        "grid = modelmap.plot_grid()\n",
        "ib = modelmap.plot_ibound()\n",
        "#add labels and legend\n",
        "plt.xlabel('Lx (m)',fontsize = 14)\n",
        "plt.ylabel('Ly (m)',fontsize = 14)\n",
        "plt.title('Ibound', fontsize = 15, fontweight = 'bold')\n",
        "plt.legend(handles=[mp.patches.Patch(color='blue',label='Const. Head',ec='black'),\n",
        "                   mp.patches.Patch(color='white',label='Active Cell',ec='black'),\n",
        "                   mp.patches.Patch(color='black',label='Inactive Cell',ec='black')],\n",
        "                   bbox_to_anchor=(1.5,1.0))\n",
        "plt.show(modelmap)\n",
        "#-------------------------------------------------------\n",
        "\n",
        "#Layer properties - lpf\n",
        "lpf = flopy.modflow.ModflowLpf(m1, laytyp=uncnf, hk=Kh, \n",
        "                               vka=Kz, ss=Ss,\n",
        "                               sy=Sy,storagecoefficient=True, ipakcb=53) \n",
        "\n",
        "#Recharge \n",
        "rech_zone = np.zeros((nrow,ncol))               #define an array of zeros of dim (nrow,ncol)\n",
        "rech_zone=rech_zone+recharge\n",
        "rch = flopy.modflow.mfrch.ModflowRch(model=m1, rech=rech_zone, ipakcb=53)     #create rch object\n",
        "\n",
        "#Well\n",
        "#well_loc = (0,well_row,well_col) #Well loc should be layer, row, column\n",
        "#well_1 = [i for i in well_loc] + [pumping]\n",
        "#print(well_1)\n",
        "#print(\"Well 1 [layer, row, column, flux]: \\n\", well_1)\n",
        "#wel_spd = {0: [well_1]} #putting the well in the bottom layer\n",
        "#wel = flopy.modflow.ModflowWel(model=m1, stress_period_data=wel_spd)\n",
        "\n",
        "#Output control - OC \n",
        "spd = {(0,0):['print head', 'print budget', 'save head', 'save budget']} #create a dictionary for stress period data, where key (0,0) is associated with value ['print...'] \n",
        "oc = flopy.modflow.ModflowOc(model=m1, stress_period_data=spd, compact=True)\n",
        "\n",
        "#Numerical solver - pcg\n",
        "pcg = flopy.modflow.ModflowPcg(model=m1)\n",
        "\n",
        "#write the inputs\n",
        "m1.write_input()    \n",
        "\n",
        "#Run the model \n",
        "success, mfoutput = m1.run_model(pause=False, report=True)\n",
        "if not success:\n",
        "    raise Exception('MODFLOW did not terminate normally.')"
      ]
    },
    {
      "cell_type": "code",
      "execution_count": null,
      "metadata": {},
      "outputs": [],
      "source": []
    },
    {
      "cell_type": "code",
      "execution_count": null,
      "metadata": {},
      "outputs": [],
      "source": []
    },
    {
      "cell_type": "markdown",
      "metadata": {},
      "source": [
        "### Old HW 10 below here"
      ]
    },
    {
      "cell_type": "markdown",
      "metadata": {
        "id": "vbv-JQP7xPZS"
      },
      "source": [
        "#### 4.2 Model Run -- Well in Middle Layer"
      ]
    },
    {
      "cell_type": "code",
      "execution_count": null,
      "metadata": {
        "id": "TK46So2mxPZT",
        "outputId": "e0c0a5f2-ff9b-4752-e0b0-67bb4770481e"
      },
      "outputs": [],
      "source": [
        "#Initialize the model\n",
        "modelname3_1 = \"ThreeLayer_1\"\n",
        "m3_one = flopy.modflow.Modflow(modelname3_1, exe_name = moddir)\n",
        "\n",
        "## Make some changes to the parameters\n",
        "nlay_3lay=3  #two layers instead of 1\n",
        "botm = np.zeros((nlay_3lay,nrow,ncol)) # initialize array of zeros for bottom elevation for each model cell (dim: nlay,nrow,ncol)\n",
        "botm[1,:,:] = 25.                  # bottom elevation of middle layer (1) is 25 m\n",
        "botm[0,:,:] = 35.                  # bottom elevation of top layer (0) is 35 m \n",
        "\n",
        "## Make a arrays for the K values\n",
        "Kz = np.zeros((nlay_3lay,nrow,ncol))     # define an array of zeros the size of the model grid (nlay, nrow, ncol)\n",
        "Kz[:,:,:] = K_vert                   # assign the original value to the entire array\n",
        "Kz[1,:,:] = 0.0001                   # Replace the K in the middle layer with the lower value\n",
        "\n",
        "Kh = np.zeros((nlay_3lay,nrow,ncol))     # define an array of zeros the size of the model grid (nlay, nrow, ncol)\n",
        "Kh[:,:,:] = K_horiz                  # assign the original value to the entire array\n",
        "Kh[1,:,:] = 0.0001                   # Replace the K in the middle layer with the lower value\n",
        "\n",
        "#Discretization - dis\n",
        "dis = flopy.modflow.ModflowDis(model=m3_one, nlay=nlay_3lay, nrow=nrow, ncol=ncol, \n",
        "                               delr=dx, delc=dy, top=ztop, botm=botm, \n",
        "                               itmuni = 4, lenuni = 2, \n",
        "                               nper=nper, steady=steady)\n",
        "\n",
        "\n",
        "# Boundary and initial conditions - bas\n",
        "#Define cell activity (IBOUND)\n",
        "ibound = np.ones((nlay_3lay, nrow, ncol), dtype=np.int32) #integer array of dim (z,y,x), makes all cells active                                                     \n",
        "ibound[:,:,0] = -1          #replace leftmost column (all zs, all ys, first x) with -1 to indicate constant head\n",
        "ibound[:,:,49] = -1          #replace rightmost column (all zs, all ys, first x) with -1 to indicate constant head\n",
        "\n",
        "\n",
        "#setup initial heads as 1 everywhere except on the boundaries\n",
        "H_init = np.ones((nlay_3lay, nrow, ncol), dtype=np.float32)  #float array (i.e. decimal), sets all heads to 1.0\n",
        "H_init[:, :, :] = h_right    #initialize the entire domain to the right head value\n",
        "H_init[:, :, 0] = h_left    #replace first (left) col with desired head value\n",
        "bas = flopy.modflow.ModflowBas(m3_one, ibound=ibound, strt=H_init)\n",
        "\n",
        "#Layer properties - lpf\n",
        "lpf = flopy.modflow.ModflowLpf(m3_one, laytyp=uncnf, hk=Kh, \n",
        "                               vka=Kz, ss=Ss,\n",
        "                               sy=Sy,storagecoefficient=True, ipakcb=53) \n",
        "\n",
        "#Recharge \n",
        "rech_zone = np.zeros((nrow,ncol))               #define an array of zeros of dim (nrow,ncol)\n",
        "rech_zone=rech_zone+recharge\n",
        "rch = flopy.modflow.mfrch.ModflowRch(model=m3_one, rech=rech_zone, ipakcb=53)     #create rch object\n",
        "\n",
        "#Well\n",
        "well_loc = (1,well_row,well_col) #Well loc should be layer, row, column\n",
        "well_1 = [i for i in well_loc] + [pumping]\n",
        "print(well_1)\n",
        "print(\"Well 1 [layer, row, column, flux]: \\n\", well_1)\n",
        "wel_spd = {0: [well_1]} #putting the well in the middle layer\n",
        "wel = flopy.modflow.ModflowWel(model=m3_one, stress_period_data=wel_spd)\n",
        "\n",
        "#Output control - OC \n",
        "spd = {(0,0):['print head', 'print budget', 'save head', 'save budget']} #create a dictionary for stress period data, where key (0,0) is associated with value ['print...'] \n",
        "oc = flopy.modflow.ModflowOc(model=m3_one, stress_period_data=spd, compact=True)\n",
        "\n",
        "#Numerical solver - pcg\n",
        "pcg = flopy.modflow.ModflowPcg(model=m3_one)\n",
        "\n",
        "#write the inputs\n",
        "m3_one.write_input()    \n",
        "\n",
        "#Run the model \n",
        "success, mfoutput = m3_one.run_model(pause=False, report=True)\n",
        "if not success:\n",
        "    raise Exception('MODFLOW did not terminate normally.')"
      ]
    },
    {
      "cell_type": "markdown",
      "metadata": {
        "id": "cvblGRgfxPZT"
      },
      "source": [
        "#### 4.3 Model Run -- Well in Bottom Layer"
      ]
    },
    {
      "cell_type": "code",
      "execution_count": null,
      "metadata": {
        "id": "uROl3C3dxPZT",
        "outputId": "051bee68-fbe3-4429-a058-14bdcfa1f5e8"
      },
      "outputs": [],
      "source": [
        "#Initialize the model\n",
        "modelname3_2 = \"ThreeLayer_2\"\n",
        "m3_two = flopy.modflow.Modflow(modelname3_2, exe_name = moddir)\n",
        "\n",
        "## Make some changes to the parameters\n",
        "nlay_3lay=3  #two layers instead of 1\n",
        "botm = np.zeros((nlay_3lay,nrow,ncol)) # initialize array of zeros for bottom elevation for each model cell (dim: nlay,nrow,ncol)\n",
        "botm[1,:,:] = 25.                  # bottom elevation of middle layer (1) is 25 m\n",
        "botm[0,:,:] = 35.                  # bottom elevation of top layer (0) is 35 m \n",
        "\n",
        "## Make a arrays for the K values\n",
        "Kz = np.zeros((nlay_3lay,nrow,ncol))     # define an array of zeros the size of the model grid (nlay, nrow, ncol)\n",
        "Kz[:,:,:] = K_vert                   # assign the original value to the entire array\n",
        "Kz[1,:,:] = 0.0001                   # Replace the K in the middle layer with the lower value\n",
        "\n",
        "Kh = np.zeros((nlay_3lay,nrow,ncol))     # define an array of zeros the size of the model grid (nlay, nrow, ncol)\n",
        "Kh[:,:,:] = K_horiz                  # assign the original value to the entire array\n",
        "Kh[1,:,:] = 0.0001                   # Replace the K in the middle layer with the lower value\n",
        "\n",
        "#Discretization - dis\n",
        "dis = flopy.modflow.ModflowDis(model=m3_two, nlay=nlay_3lay, nrow=nrow, ncol=ncol, \n",
        "                               delr=dx, delc=dy, top=ztop, botm=botm, \n",
        "                               itmuni = 4, lenuni = 2, \n",
        "                               nper=nper, steady=steady)\n",
        "\n",
        "\n",
        "# Boundary and initial conditions - bas\n",
        "#Define cell activity (IBOUND)\n",
        "ibound = np.ones((nlay_3lay, nrow, ncol), dtype=np.int32) #integer array of dim (z,y,x), makes all cells active                                                     \n",
        "ibound[:,:,0] = -1          #replace leftmost column (all zs, all ys, first x) with -1 to indicate constant head\n",
        "ibound[:,:,49] = -1          #replace rightmost column (all zs, all ys, first x) with -1 to indicate constant head\n",
        "\n",
        "\n",
        "#setup initial heads as 1 everywhere except on the boundaries\n",
        "H_init = np.ones((nlay_3lay, nrow, ncol), dtype=np.float32)  #float array (i.e. decimal), sets all heads to 1.0\n",
        "H_init[:, :, :] = h_right    #initialize the entire domain to the right head value\n",
        "H_init[:, :, 0] = h_left    #replace first (left) col with desired head value\n",
        "bas = flopy.modflow.ModflowBas(m3_two, ibound=ibound, strt=H_init)\n",
        "\n",
        "#Layer properties - lpf\n",
        "lpf = flopy.modflow.ModflowLpf(m3_two, laytyp=uncnf, hk=Kh, \n",
        "                               vka=Kz, ss=Ss,\n",
        "                               sy=Sy,storagecoefficient=True, ipakcb=53) \n",
        "\n",
        "#Recharge \n",
        "rech_zone = np.zeros((nrow,ncol))               #define an array of zeros of dim (nrow,ncol)\n",
        "rech_zone=rech_zone+recharge\n",
        "rch = flopy.modflow.mfrch.ModflowRch(model=m3_two, rech=rech_zone, ipakcb=53)     #create rch object\n",
        "\n",
        "#Well\n",
        "well_loc = (2,well_row,well_col) #Well loc should be layer, row, column\n",
        "well_1 = [i for i in well_loc] + [pumping]\n",
        "print(well_1)\n",
        "print(\"Well 1 [layer, row, column, flux]: \\n\", well_1)\n",
        "wel_spd = {0: [well_1]} #putting the well in the bottom layer\n",
        "wel = flopy.modflow.ModflowWel(model=m3_two, stress_period_data=wel_spd)\n",
        "\n",
        "#Output control - OC \n",
        "spd = {(0,0):['print head', 'print budget', 'save head', 'save budget']} #create a dictionary for stress period data, where key (0,0) is associated with value ['print...'] \n",
        "oc = flopy.modflow.ModflowOc(model=m3_two, stress_period_data=spd, compact=True)\n",
        "\n",
        "#Numerical solver - pcg\n",
        "pcg = flopy.modflow.ModflowPcg(model=m3_two)\n",
        "\n",
        "#write the inputs\n",
        "m3_two.write_input()    \n",
        "\n",
        "#Run the model \n",
        "success, mfoutput = m3_two.run_model(pause=False, report=True)\n",
        "if not success:\n",
        "    raise Exception('MODFLOW did not terminate normally.')"
      ]
    },
    {
      "cell_type": "markdown",
      "metadata": {
        "id": "T6CsZgbPxPZU"
      },
      "source": [
        "#### 4.4 Model Run -- 3 layer, model adjusted to 1 layer run"
      ]
    },
    {
      "cell_type": "code",
      "execution_count": null,
      "metadata": {
        "id": "g-8SHex_xPZU"
      },
      "outputs": [],
      "source": [
        "# #Initialize the model\n",
        "# modelname3 = \"ThreeLayer_1layer\"\n",
        "# m3 = flopy.modflow.Modflow(modelname3, exe_name = moddir)\n",
        "\n",
        "# ## Make some changes to the parameters\n",
        "# nlay_3lay=3  #three layers instead of 1\n",
        "# botm = np.zeros((nlay_3lay,nrow,ncol)) # initialize array of zeros for bottom elevation for each model cell (dim: nlay,nrow,ncol)\n",
        "# botm[1,:,:] = 25.                  # bottom elevation of middle layer (1) is 25 m\n",
        "# botm[0,:,:] = 35.                  # bottom elevation of top layer (0) is 35 m \n",
        "\n",
        "# ## Make a arrays for the K values\n",
        "# Kz = np.zeros((nlay_3lay,nrow,ncol))     # define an array of zeros the size of the model grid (nlay, nrow, ncol)\n",
        "# Kz[:,:,:] = K_vert                   # assign the original value to the entire array\n",
        "# # Kz[1,:,:] = 0.0001                   # Replace the K in the middle layer with the lower value\n",
        "\n",
        "# Kh = np.zeros((nlay_3lay,nrow,ncol))     # define an array of zeros the size of the model grid (nlay, nrow, ncol)\n",
        "# Kh[:,:,:] = K_horiz                  # assign the original value to the entire array\n",
        "# # Kh[1,:,:] = 0.0001                   # Replace the K in the middle layer with the lower value\n",
        "\n",
        "# #Discretization - dis\n",
        "# dis = flopy.modflow.ModflowDis(model=m3, nlay=nlay_3lay, nrow=nrow, ncol=ncol, \n",
        "#                                delr=dx, delc=dy, top=ztop, botm=botm, \n",
        "#                                itmuni = 4, lenuni = 2, \n",
        "#                                nper=nper, steady=steady)\n",
        "\n",
        "\n",
        "# # Boundary and initial conditions - bas\n",
        "# #Define cell activity (IBOUND)\n",
        "# ibound = np.ones((nlay_3lay, nrow, ncol), dtype=np.int32) #integer array of dim (z,y,x), makes all cells active                                                     \n",
        "# ibound[:,:,0] = -1          #replace leftmost column (all zs, all ys, first x) with -1 to indicate constant head\n",
        "# ibound[:,:,49] = -1          #replace rightmost column (all zs, all ys, first x) with -1 to indicate constant head\n",
        "\n",
        "\n",
        "# #setup initial heads as 1 everywhere except on the boundaries\n",
        "# H_init = np.ones((nlay_3lay, nrow, ncol), dtype=np.float32)  #float array (i.e. decimal), sets all heads to 1.0\n",
        "# H_init[:, :, :] = h_right    #initialize the entire domain to the right head value\n",
        "# H_init[:, :, 0] = h_left    #replace first (left) col with desired head value\n",
        "# bas = flopy.modflow.ModflowBas(m3, ibound=ibound, strt=H_init)\n",
        "\n",
        "# #Layer properties - lpf\n",
        "# lpf = flopy.modflow.ModflowLpf(m3, laytyp=uncnf, hk=Kh, \n",
        "#                                vka=Kz, ss=Ss,\n",
        "#                                sy=Sy,storagecoefficient=True, ipakcb=53) \n",
        "\n",
        "# #Recharge \n",
        "# rech_zone = np.zeros((nrow,ncol))               #define an array of zeros of dim (nrow,ncol)\n",
        "# rech_zone=rech_zone+recharge\n",
        "# rch = flopy.modflow.mfrch.ModflowRch(model=m3, rech=rech_zone, ipakcb=53)     #create rch object\n",
        "\n",
        "# #Well\n",
        "# well_loc = (2,well_row,well_col) #Well loc should be layer, row, column\n",
        "# well_1 = [i for i in well_loc] + [pumping]\n",
        "# print(well_1)\n",
        "# print(\"Well 1 [layer, row, column, flux]: \\n\", well_1)\n",
        "# wel_spd = {0: [well_1]} #putting the well in the bottom layer\n",
        "# wel = flopy.modflow.ModflowWel(model=m3, stress_period_data=wel_spd)\n",
        "\n",
        "# #Output control - OC \n",
        "# spd = {(0,0):['print head', 'print budget', 'save head', 'save budget']} #create a dictionary for stress period data, where key (0,0) is associated with value ['print...'] \n",
        "# oc = flopy.modflow.ModflowOc(model=m3, stress_period_data=spd, compact=True)\n",
        "\n",
        "# #Numerical solver - pcg\n",
        "# pcg = flopy.modflow.ModflowPcg(model=m3)\n",
        "\n",
        "# #write the inputs\n",
        "# m3.write_input()    \n",
        "\n",
        "# #Run the model \n",
        "# success, mfoutput = m3.run_model(pause=False, report=True)\n",
        "# if not success:\n",
        "#     raise Exception('MODFLOW did not terminate normally.')"
      ]
    },
    {
      "cell_type": "markdown",
      "metadata": {
        "id": "XK1iwAYExPZV"
      },
      "source": [
        "# 5. Plot the domains\n",
        "### 5.1 Plan view of the domain"
      ]
    },
    {
      "cell_type": "code",
      "execution_count": null,
      "metadata": {
        "id": "EbyBgoPRxPZV",
        "outputId": "89bf8ca6-3e30-41cb-b9eb-bbf40c8d548d"
      },
      "outputs": [],
      "source": [
        "fig = plt.figure(figsize=(8, 8))\n",
        "ax = fig.add_subplot(1, 1, 1, aspect='equal')\n",
        "mapview = flopy.plot.PlotMapView(model=m1)\n",
        "ibound = mapview.plot_ibound()\n",
        "wel = mapview.plot_bc(\"WEL\")\n",
        "linecollection = mapview.plot_grid()"
      ]
    },
    {
      "cell_type": "markdown",
      "metadata": {
        "id": "oaR8mByNxPZV"
      },
      "source": [
        "### 5.2 Cross section of the layered model\n",
        "For more examples of cross section plotting check out this notebook: https://github.com/modflowpy/flopy/blob/develop/examples/Notebooks/flopy3.3_PlotCrossSection.ipynb "
      ]
    },
    {
      "cell_type": "markdown",
      "metadata": {
        "id": "Julsb6LExPZW"
      },
      "source": [
        " fig = plt.figure(figsize=(15, 5))\n",
        " ax = fig.add_subplot(1, 1, 1)\n",
        "\n",
        " xsect = flopy.plot.PlotCrossSection(model=m3, line={'row': 24}) #note use the key 'column' if you want to plot a column instead\n",
        " patches = xsect.plot_ibound(color_noflow='red', color_ch='blue')\n",
        " patches = xsect.plot_bc('WEL', color='red')\n",
        " linecollection = xsect.plot_grid(color='green')\n",
        " t = ax.set_title('Row 25 Cross-Section with IBOUND Boundary Conditions')"
      ]
    },
    {
      "cell_type": "markdown",
      "metadata": {
        "id": "apcVniXcxPZW"
      },
      "source": [
        "# 7. Read in the outputs\n",
        "\n",
        "### 7.1 Modflow outputs - Heads and budget files"
      ]
    },
    {
      "cell_type": "code",
      "execution_count": null,
      "metadata": {
        "id": "9AsWzf-uxPZW",
        "outputId": "ef81be99-de93-4269-c75d-2f8cf1064cbd"
      },
      "outputs": [],
      "source": [
        "# Head - 1 layer model \n",
        "headobj1 = bf.HeadFile(modelname1+'.hds')    #reads the binary head file\n",
        "times = headobj1.get_times()                 #returns a list of timesteps\n",
        "head1 = headobj1.get_data(totim=times[-1])   #returns a numpy array of heads for specified time (last timestep)\n",
        "\n",
        "# #Head - 3 layer model, adjusted to 1 layer model\n",
        "# headobj3 = bf.HeadFile(modelname3+'.hds')    #reads the binary head file\n",
        "# times = headobj3.get_times()                 #returns a list of timesteps\n",
        "# head3 = headobj3.get_data(totim=times[-1])   #returns a numpy array of heads for specified time (last timestep)\n",
        "\n",
        "#Head - 3 layer model, Run 1 \n",
        "headobj3_0 = bf.HeadFile(modelname3_0+'.hds')    #reads the binary head file\n",
        "times = headobj3_0.get_times()                 #returns a list of timesteps\n",
        "head3_0 = headobj3_0.get_data(totim=times[-1])   #returns a numpy array of heads for specified time (last timestep)\n",
        "\n",
        "#Head - 3 layer model, Run 2 \n",
        "headobj3_1 = bf.HeadFile(modelname3_1+'.hds')    #reads the binary head file\n",
        "times = headobj3_1.get_times()                 #returns a list of timesteps\n",
        "head3_1 = headobj3_1.get_data(totim=times[-1])   #returns a numpy array of heads for specified time (last timestep)\n",
        "\n",
        "#Head - 3 layer model, Run 3 \n",
        "headobj3_2 = bf.HeadFile(modelname3_2+'.hds')    #reads the binary head file\n",
        "times = headobj3_2.get_times()                 #returns a list of timesteps\n",
        "head3_2 = headobj3_2.get_data(totim=times[-1])   #returns a numpy array of heads for specified time (last timestep)\n",
        "\n",
        "\n",
        "#Water balance - 1 layer\n",
        "budgobj1 = bf.CellBudgetFile(modelname1+'.cbc')   #reads the cell budget file    \n",
        "print(budgobj1.get_unique_record_names())\n",
        "kstpkper_list1 = budgobj1.get_kstpkper()          #returns a list of stress periods & timesteps\n",
        "frf1 = budgobj1.get_data(text='flow right face', totim=1.0) #returns an array of flow rates for right face of cells\n",
        "fff1 = budgobj1.get_data(text='flow front face', totim=1.0) #returns an array of flow rates for front face of cells \n",
        "recharge1 = budgobj1.get_data(text='RECHARGE', totim=1.0) \n",
        "\n",
        "# #Water balance - 3 layer, adjusted to 1 layer\n",
        "# budgobj3 = bf.CellBudgetFile(modelname3+'.cbc')   #reads the cell budget file    \n",
        "# print(budgobj3.get_unique_record_names())\n",
        "# kstpkper_list3 = budgobj1.get_kstpkper()          #returns a list of stress periods & timesteps\n",
        "# frf3 = budgobj3.get_data(text='flow right face', totim=1.0) #returns an array of flow rates for right face of cells\n",
        "# fff3 = budgobj3.get_data(text='flow front face', totim=1.0) #returns an array of flow rates for front face of cells \n",
        "# recharge3 = budgobj3.get_data(text='RECHARGE', totim=1.0) \n",
        "# print(len(frf3))\n",
        "\n",
        "\n",
        "\n",
        "#Water balance - 3 layer, Run 1\n",
        "budgobj3_0 = bf.CellBudgetFile(modelname3_0+'.cbc')   #reads the cell budget file    \n",
        "print(budgobj3_0.get_unique_record_names())\n",
        "kstpkper_list3_0 = budgobj1.get_kstpkper()          #returns a list of stress periods & timesteps\n",
        "frf3_0 = budgobj3_0.get_data(text='flow right face', totim=1.0) #returns an array of flow rates for right face of cells\n",
        "fff3_0 = budgobj3_0.get_data(text='flow front face', totim=1.0) #returns an array of flow rates for front face of cells \n",
        "recharge3_0 = budgobj3_0.get_data(text='RECHARGE', totim=1.0) \n",
        "print(len(frf3_0))\n",
        "\n",
        "#Water balance - 3 layer, Run 2\n",
        "budgobj3_1 = bf.CellBudgetFile(modelname3_1+'.cbc')   #reads the cell budget file    \n",
        "print(budgobj3_1.get_unique_record_names())\n",
        "kstpkper_list3_1 = budgobj1.get_kstpkper()          #returns a list of stress periods & timesteps\n",
        "frf3_1 = budgobj3_1.get_data(text='flow right face', totim=1.0) #returns an array of flow rates for right face of cells\n",
        "fff3_1 = budgobj3_1.get_data(text='flow front face', totim=1.0) #returns an array of flow rates for front face of cells \n",
        "recharge3 = budgobj3_1.get_data(text='RECHARGE', totim=1.0) \n",
        "print(len(frf3_1))\n",
        "\n",
        "#Water balance - 3 layer, Run 3\n",
        "budgobj3_2 = bf.CellBudgetFile(modelname3_2+'.cbc')   #reads the cell budget file    \n",
        "print(budgobj3_2.get_unique_record_names())\n",
        "kstpkper_list3_2 = budgobj1.get_kstpkper()          #returns a list of stress periods & timesteps\n",
        "frf3_2 = budgobj3_2.get_data(text='flow right face', totim=1.0) #returns an array of flow rates for right face of cells\n",
        "fff3_2 = budgobj3_2.get_data(text='flow front face', totim=1.0) #returns an array of flow rates for front face of cells \n",
        "recharge3 = budgobj3_2.get_data(text='RECHARGE', totim=1.0) \n",
        "print(len(frf3_2))\n"
      ]
    },
    {
      "cell_type": "markdown",
      "metadata": {
        "id": "hZwNE0O2xPZW"
      },
      "source": [
        "# 8. Plotting\n",
        "### 8.1 One Layer Cross section plot"
      ]
    },
    {
      "cell_type": "code",
      "execution_count": null,
      "metadata": {
        "id": "d8T5RFXcxPZW"
      },
      "outputs": [],
      "source": [
        "#### 1 layered model \n",
        "# fig = plt.figure(figsize=(15, 5))\n",
        "# ax = fig.add_subplot(1, 1, 1)\n",
        "\n",
        "# xsect = flopy.plot.PlotCrossSection(model=m1, line={'row': 24}) #note use the key 'column' if you want to plot a column instaed\n",
        "# pc = xsect.plot_array(head1, masked_values=[999.], head=head3, alpha=0.5)\n",
        "# patches = xsect.plot_ibound(head=head1)\n",
        "# #patches = xsect.plot_ibound(color_noflow='red', color_ch='blue')\n",
        "# #patches = xsect.plot_bc('WEL', color='red')\n",
        "# linecollection = xsect.plot_grid(color='black', lw=0.5)\n",
        "# t = ax.set_title('1 Layer Model Row 25 Cross-Section')\n",
        "# cb = plt.colorbar(pc, shrink=0.75)\n",
        "# #Overlay the head in a layer of the model- in this case I'm doing the top layer i.e. head3[0,:,:]\n",
        "# wt = xsect.plot_surface(head1[0,:,:], masked_values=[999.], color='blue', lw=1)\n"
      ]
    },
    {
      "cell_type": "markdown",
      "metadata": {
        "id": "ZFAgaI6OxPZX"
      },
      "source": [
        "### 8.2 Three Layer Cross Section Plots"
      ]
    },
    {
      "cell_type": "code",
      "execution_count": null,
      "metadata": {
        "id": "fd4r80nPxPZX",
        "outputId": "a8aaab4f-d2f0-4a2d-8dee-40c4d4a6965a"
      },
      "outputs": [],
      "source": [
        "# Plot 1 and 3 layer Model Cross sections\n",
        "fig = plt.figure(figsize=(15, 10))\n",
        "ax0 = fig.add_subplot(2, 1, 1)\n",
        "\n",
        "# # 1 Layer Model Run\n",
        "# xsect0 = flopy.plot.PlotCrossSection(model=m1, line={'row': 24}) #note use the key 'column' if you want to plot a column instaed\n",
        "# pc = xsect0.plot_array(head1, masked_values=[999.], head=head3, alpha=0.5)\n",
        "# patches = xsect0.plot_ibound(head=head1)\n",
        "# # ax0.set_aspect('equal')\n",
        "# ax0.set_ylabel('Depth (z) [m]', fontsize=10)\n",
        "# #patches = xsect.plot_ibound(color_noflow='red', color_ch='blue')\n",
        "# #patches = xsect.plot_bc('WEL', color='red')\n",
        "# linecollection = xsect0.plot_grid(color='black', lw=0.5)\n",
        "# t = ax0.set_title('1 Layer Model Row 25 Cross-Section')\n",
        "# fig.colorbar(pc, ax=ax0, shrink=0.75)\n",
        "# #Overlay the head in a layer of the model- in this case I'm doing the top layer i.e. head3[0,:,:]\n",
        "# wt = xsect0.plot_surface(head1[0,:,:], masked_values=[999.], color='blue', lw=1)\n",
        "\n",
        "# ax1 = fig.add_subplot(2, 1, 2)\n",
        "# # 3 Layer Model Run 2\n",
        "# xsect1 = flopy.plot.PlotCrossSection(model=m3, line={'row': 24}) #note use the key 'column' if you want to plot a column instaed\n",
        "# pc1 = xsect1.plot_array(head3, masked_values=[999.], head=head3, alpha=0.5)\n",
        "# patches = xsect1.plot_ibound(head=head3)\n",
        "# ax1.set_ylabel('Depth (z) [m]', fontsize=10)\n",
        "# #patches = xsect.plot_ibound(color_noflow='red', color_ch='blue')\n",
        "# #patches = xsect.plot_bc('WEL', color='red')\n",
        "# linecollection = xsect1.plot_grid(color='black', lw=0.5)\n",
        "# t = ax1.set_title('3 Layer Model Row 25 Cross-Section')\n",
        "# fig.colorbar(pc1, ax=ax1, shrink=0.75)\n",
        "# #Overlay the head in a layer of the model- in this case I'm doing the top layer i.e. head3[0,:,:]\n",
        "# wt = xsect1.plot_surface(head3[0,:,:], masked_values=[999.], color='blue', lw=1)\n",
        "\n",
        "\n",
        "fig.tight_layout()"
      ]
    },
    {
      "cell_type": "markdown",
      "metadata": {
        "id": "9yQgefCPxPZX"
      },
      "source": [
        "### 8.3 Three Layer Cross Section Plots"
      ]
    },
    {
      "cell_type": "code",
      "execution_count": null,
      "metadata": {
        "id": "5O4vCxqUxPZX",
        "outputId": "27e387fa-ebe3-46c8-d3d0-b0b28afc2ef8"
      },
      "outputs": [],
      "source": [
        "# Plot 3 layer Model Cross sections\n",
        "fig = plt.figure(figsize=(15, 10))\n",
        "ax0 = fig.add_subplot(3, 1, 1)\n",
        "\n",
        "# 3 Layer Model Run 1\n",
        "xsect0 = flopy.plot.PlotCrossSection(model=m3_zero, line={'row': 24}) #note use the key 'column' if you want to plot a column instaed\n",
        "pc = xsect0.plot_array(head3_0, masked_values=[999.], head=head3_0, alpha=0.5)\n",
        "patches = xsect0.plot_ibound(head=head3_0)\n",
        "# ax0.set_aspect('equal')\n",
        "ax0.set_ylabel('Depth (z) [m]', fontsize=10)\n",
        "#patches = xsect.plot_ibound(color_noflow='red', color_ch='blue')\n",
        "#patches = xsect.plot_bc('WEL', color='red')\n",
        "linecollection = xsect0.plot_grid(color='black', lw=0.5)\n",
        "t = ax0.set_title('3 Layer Model Row 25 Cross-Section')\n",
        "fig.colorbar(pc, ax=ax0, shrink=0.75)\n",
        "#Overlay the head in a layer of the model- in this case I'm doing the top layer i.e. head3[0,:,:]\n",
        "wt = xsect0.plot_surface(head3_0[0,:,:], masked_values=[999.], color='blue', lw=1)\n",
        "\n",
        "ax1 = fig.add_subplot(3, 1, 2)\n",
        "# 3 Layer Model Run 2\n",
        "xsect1 = flopy.plot.PlotCrossSection(model=m3_one, line={'row': 24}) #note use the key 'column' if you want to plot a column instaed\n",
        "pc1 = xsect1.plot_array(head3_1, masked_values=[999.], head=head3_0, alpha=0.5)\n",
        "patches = xsect1.plot_ibound(head=head3_1)\n",
        "ax1.set_ylabel('Depth (z) [m]', fontsize=10)\n",
        "#patches = xsect.plot_ibound(color_noflow='red', color_ch='blue')\n",
        "#patches = xsect.plot_bc('WEL', color='red')\n",
        "linecollection = xsect1.plot_grid(color='black', lw=0.5)\n",
        "fig.colorbar(pc1, ax=ax1, shrink=0.75)\n",
        "#Overlay the head in a layer of the model- in this case I'm doing the top layer i.e. head3[0,:,:]\n",
        "wt = xsect1.plot_surface(head3_0[0,:,:], masked_values=[999.], color='blue', lw=1)\n",
        "\n",
        "ax2 = fig.add_subplot(3, 1, 3)\n",
        "# 3 Layer Model Run 3\n",
        "xsect2 = flopy.plot.PlotCrossSection(model=m3_two, line={'row': 24}) #note use the key 'column' if you want to plot a column instaed\n",
        "pc2 = xsect2.plot_array(head3_2, masked_values=[999.], head=head3_0, alpha=0.5)\n",
        "patches = xsect2.plot_ibound(head=head3_2)\n",
        "ax2.set_xlabel('Distance (x) [m]', fontsize=10)\n",
        "ax2.set_ylabel('Depth (z) [m]', fontsize=10)\n",
        "#patches = xsect.plot_ibound(color_noflow='red', color_ch='blue')\n",
        "#patches = xsect.plot_bc('WEL', color='red')\n",
        "linecollection = xsect2.plot_grid(color='black', lw=0.5)\n",
        "#Overlay the head in a layer of the model- in this case I'm doing the top layer i.e. head3[0,:,:]\n",
        "wt = xsect2.plot_surface(head3_0[0,:,:], masked_values=[999.], color='blue', lw=1)\n",
        "fig.colorbar(pc2, ax=ax2, shrink=0.75)\n",
        "\n",
        "fig.tight_layout()"
      ]
    },
    {
      "cell_type": "markdown",
      "metadata": {
        "id": "jkf86uq0xPZX"
      },
      "source": [
        "# 9. Additional plots\n",
        "### 9.1 Plot head transect"
      ]
    },
    {
      "cell_type": "code",
      "execution_count": null,
      "metadata": {
        "id": "9k2VEbw_xPZY",
        "outputId": "a0da30b0-8a62-4c27-ff7f-ec20486b925b"
      },
      "outputs": [],
      "source": [
        "fig4 = plt.figure() \n",
        "ax = fig4.add_subplot(1, 1, 1)\n",
        "\n",
        "x=np.arange(0,5000,100) \n",
        "# plt.plot(x,head1[0,int(well_row),:],marker='o', color='mediumvioletred', markersize=4, linestyle='--', label=\"1 layer\")\n",
        "plt.plot(x,head3_0[0,int(well_row),:],marker='o', color='blue', markersize=4, linestyle='--', label=\"3 layer top\")\n",
        "plt.plot(x,head3_0[1,int(well_row),:],marker='o', color='r', markersize=4, linestyle='--', label=\"3 layer middle\")\n",
        "plt.plot(x,head3_0[2,int(well_row),:],marker='o', color='green', markersize=4, linestyle='--', label=\"3 layer bottom\")\n",
        "plt.title('Head transect')\n",
        "plt.xlabel('X location')\n",
        "plt.ylabel('Head')\n",
        "plt.legend()\n",
        "\n",
        "# plt.savefig('Head_Transect.png')"
      ]
    },
    {
      "cell_type": "markdown",
      "metadata": {
        "id": "hkLCxcDqxPZY"
      },
      "source": [
        "### 9.2 1 Layer Head Contours"
      ]
    },
    {
      "cell_type": "code",
      "execution_count": null,
      "metadata": {
        "id": "dJ1QFjgHxPZY",
        "outputId": "de719ea5-13ad-4b01-8466-e9e645251359"
      },
      "outputs": [],
      "source": [
        "#f, axes = plt.subplots(ncols=1, nrows=2, figsize=(5, 10))\n",
        "fig3=plt.figure(figsize=(10,10))\n",
        "\n",
        "modelmap = flopy.plot.PlotMapView(model=m1, layer=0) #use modelmap to attach plot to model\n",
        "#grid = modelmap.plot_grid() #plot model grid\n",
        "qm = modelmap.plot_ibound()  \n",
        "contour_levels = np.linspace(head1[0].min(),head1[0].max(),11) #set contour levels for contouring head\n",
        "head_contours = modelmap.contour_array(head1, levels=contour_levels) #create head contours\n",
        "flows = modelmap.plot_discharge(frf1[0], fff1[0], head=head1) #create discharge arrows\n",
        "\n",
        "#display parameters\n",
        "plt.xlabel('Lx (m)',fontsize = 14)\n",
        "plt.ylabel('Ly (m)',fontsize = 14)\n",
        "plt.title('1 layer scenario', fontsize = 15, fontweight = 'bold')\n",
        "plt.colorbar(head_contours,aspect=5)\n",
        "#plt.show(modelmap)\n",
        "#plt.savefig('WellScenario_vectors.png')   "
      ]
    },
    {
      "cell_type": "markdown",
      "metadata": {
        "id": "k3BXcD9hxPZY"
      },
      "source": [
        "### 9.3 3 Layer head contours"
      ]
    },
    {
      "cell_type": "code",
      "execution_count": null,
      "metadata": {
        "id": "94YhOX54xPZY",
        "outputId": "c7ffc311-3149-43b9-deb9-219cbcb8dc56"
      },
      "outputs": [],
      "source": [
        "#f, axes = plt.subplots(ncols=1, nrows=2, figsize=(5, 10))\n",
        "fig3=plt.figure(figsize=(10,10))\n",
        "# print(fff1[0][0][40])\n",
        "# print(frf3[0][2][40])\n",
        "\n",
        "modelmap = flopy.plot.PlotMapView(model=m3_zero, layer=2) #use modelmap to attach plot to model\n",
        "#grid = modelmap.plot_grid() #plot model grid\n",
        "qm = modelmap.plot_ibound()  \n",
        "contour_levels = np.linspace(head3_0[0][0].min(),head3_0[0][0].max(),11) #set contour levels for contouring head\n",
        "head_contours = modelmap.contour_array(head3_0, levels=contour_levels) #create head contours\n",
        "flows = modelmap.plot_discharge(frf3_0[0], fff3_0[0], head=head3_0) #create discharge arrows\n",
        "\n",
        "#display parameters\n",
        "plt.xlabel('Lx (m)',fontsize = 14)\n",
        "plt.ylabel('Ly (m)',fontsize = 14)\n",
        "plt.title('3 layer scenario', fontsize = 15, fontweight = 'bold')\n",
        "plt.colorbar(head_contours,aspect=5)\n",
        "#plt.show(modelmap)\n",
        "#plt.savefig('WellScenario_vectors.png')   "
      ]
    },
    {
      "cell_type": "code",
      "execution_count": null,
      "metadata": {
        "id": "Czro4b_rxPZY"
      },
      "outputs": [],
      "source": []
    }
  ],
  "metadata": {
    "colab": {
      "name": "HW10_model_Boyd.ipynb",
      "provenance": []
    },
    "kernelspec": {
      "display_name": "Python 3",
      "language": "python",
      "name": "python3"
    },
    "language_info": {
      "codemirror_mode": {
        "name": "ipython",
        "version": 3
      },
      "file_extension": ".py",
      "mimetype": "text/x-python",
      "name": "python",
      "nbconvert_exporter": "python",
      "pygments_lexer": "ipython3",
      "version": "3.8.12"
    }
  },
  "nbformat": 4,
  "nbformat_minor": 0
}
