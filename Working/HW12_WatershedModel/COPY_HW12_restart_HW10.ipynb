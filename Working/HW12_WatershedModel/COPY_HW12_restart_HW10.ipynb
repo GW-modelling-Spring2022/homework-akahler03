{
  "cells": [
    {
      "cell_type": "markdown",
      "metadata": {
        "id": "RaVDQwqfxPZI"
      },
      "source": [
        "# HW 12: The Big Challenge\n",
        "## Abigail Kahler, HWRS 582\n",
        "\n",
        "## Model Description \n",
        "This is a steady state, layered box model with recharge.\n",
        "\n",
        "#### Dimensions: \n",
        "- 50 by 50 by 1\n",
        "- dx = dy = 1000 m\n",
        "- dz = 150 m  \n",
        "\n",
        "#### Topography\n",
        "- Bottom of the domain is flat, bottom layer is 40m thick\n",
        "- Middle layer is also flat, and 5 m thick\n",
        "- Top layer elevation is provided in BASE_TOP_ELEV_CSV\n",
        "\n",
        "#### Subsurface Properties: \n",
        "- Homogeneous within each of three layers \n",
        "- K top and bottom layers = 8.5 m/day in x, y and z.\n",
        "- K middle layer = same as top and bottom for leftmost 20 columns\n",
        "- K middle layer: 0.0001 m/day in z direction for rightmost 30 columns \n",
        "- Porosity = 0.1\n",
        "- Specific yield = 0.1\n",
        "- Storage coefficient=0.0001   \n",
        "\n",
        "#### Boundary Conditions: \n",
        " - Right boundary for all layers is defined by a constant head of 70 m relative to the datum (located at bottom of domain).\n",
        " - Left, top, and bottom boundaries are no flow.\n",
        " \n",
        "#### Stream Properties: \n",
        "- Inflow to first reach = 0 m3/d\n",
        "- Streambed slope = 0.001 m/m\n",
        "- Streambed rough = 0.04\n",
        "- Streambed width = 1 m\n",
        "- Streambed K = 1.36 x horizontal K of top layer\n",
        "- Streambed thickness = 1 m\n",
        "- Stream bottom depth = 2 m #to set stream 1 m below ground surface\n",
        "- Stage = .5 m\n",
        "\n",
        "#### Well: \n",
        " - Town pumping well\n",
        "     - Located at row 21, column 38 screened in bottom layer\n",
        "     - Pumping at a rate of 1500 m^3/day \n",
        "     - Some treated water returned to stream at column 25\n",
        "\n",
        "  - Ag pumping well\n",
        "    - Screen in top layer, row 12, columns 14\n",
        "    - Pumping rate = crop water demand plus 20% for excess irrigation\n",
        "      plus 30% for irrigation efficiency\n",
        "    - Pumping rate wheat = 3000 m/day\n",
        "    - Pumping rate pistachios = 4500 m/day\n",
        "    - Pumping rate cotton = 6000 m/day\n",
        "     "
      ]
    },
    {
      "cell_type": "markdown",
      "metadata": {
        "id": "PmcCUnZTxPZM"
      },
      "source": [
        "## 1. Setup the environment"
      ]
    },
    {
      "cell_type": "code",
      "execution_count": 9,
      "metadata": {
        "id": "Gqqw30GjxPZN"
      },
      "outputs": [],
      "source": [
        "#the basics\n",
        "import flopy\n",
        "import numpy as np\n",
        "import matplotlib as mp\n",
        "import os\n",
        "\n",
        "#additional analysis tools\n",
        "import flopy.utils.binaryfile as bf\n",
        "from mpl_toolkits.mplot3d import Axes3D\n",
        "import matplotlib.pyplot as plt\n",
        "from matplotlib import cm\n",
        "from matplotlib.ticker import LinearLocator, FormatStrFormatter\n",
        "import csv\n",
        "from matplotlib import ticker\n",
        "\n",
        "#jupyter specific--included to show plots in notebook\n",
        "%matplotlib inline "
      ]
    },
    {
      "cell_type": "markdown",
      "metadata": {
        "id": "IWZreoCWxPZO"
      },
      "source": [
        "## 2. Setup the input variables "
      ]
    },
    {
      "cell_type": "code",
      "execution_count": 10,
      "metadata": {
        "id": "8dk8RNMKxPZO",
        "outputId": "186cbd65-dba0-4722-a7d0-d0cb01123745"
      },
      "outputs": [],
      "source": [
        "## model directory\n",
        "moddir= \"C:/Users/tento/Documents/GW_Modeling/homework-akahler03/Working/mf2005.exe\"\n",
        "\n",
        "## Discretization\n",
        "nrow = 50 #number of rows\n",
        "ncol = 50 #number of columns\n",
        "nlay = 3  #number of layers\n",
        "nreach = ncol\n",
        "\n",
        "dx= 1000 #width of grid cells in x direction (m)\n",
        "dy= 1000 #width of grid cells in y direction (m)\n",
        "Lx = ncol*dx  #width of domain in x\n",
        "Ly = nrow*dy #width of domain in y\n",
        "\n",
        "#Read in surface elevation\n",
        "ztop = np.genfromtxt('BASE_top_elev.csv', delimiter=',') # top elevation of top layer (import from csv file) (dim: nrow, ncol)\n",
        "surf_elev = np.zeros((nreach))   # create array of zeros the length of the stream\n",
        "zbot = 0.     #bottom elevation\n",
        "dz = (ztop - zbot) / nlay #cell height in z direction\n",
        "\n",
        "## Timing\n",
        "nper = 1 #number of stress periods \n",
        "steady = [True] #list noting the stress period type\n",
        "\n",
        "## Subsurface properties\n",
        "K_xyz = 8.5   # m/day horizontal hydraulic conductivity in x, y, z \n",
        "K_mid_z = 0.1    #assign vertical hydraulic conductivity (along z axis)\n",
        "n = 0.1        #assign porosity\n",
        "Ss = 0.0001      #assign storage coefficient\n",
        "Sy = 0.1        #assign specific yield\n",
        "uncnf = 1       #0=confined, >0 = unconfined\n",
        "\n",
        "## Boundary condition\n",
        "h_right = 70  #m\n",
        "\n",
        "# Recharge in the leftmost columns (zero elsewhere)\n",
        "recharge = 4e-5 #m/day\n",
        "\n",
        "#######################################################\n",
        "#Recharge and wells for scenarios\n",
        "\n",
        "# Ag recharge (m/day)\n",
        "rech_wheat = 0.0001\n",
        "rech_pist = 0.00015\n",
        "rech_cot = 0.0002\n",
        "\n",
        "# Ag well (m3/day)\n",
        "agwell_row = 12\n",
        "agwell_col = 14\n",
        "agwell_layer = 0\n",
        "Q_wheat = -3000\n",
        "Q_pist = -4500\n",
        "Q_cott = -6000\n",
        "\n",
        "# Town well (m3/day)\n",
        "townwell_row = 21\n",
        "townwell_col = 38\n",
        "townwell_Q = -1500    #m3/day\n",
        "townwell_layer = 2\n",
        "\n"
      ]
    },
    {
      "cell_type": "code",
      "execution_count": 11,
      "metadata": {
        "id": "sO-ERsbGxPZS",
        "outputId": "31defe8f-9fc8-4966-d7f9-e30743e982d2"
      },
      "outputs": [
        {
          "data": {
            "image/png": "[encoded data removed]",
            "text/plain": [
              "<Figure size 288x288 with 1 Axes>"
            ]
          },
          "metadata": {
            "needs_background": "light"
          },
          "output_type": "display_data"
        },
        {
          "name": "stdout",
          "output_type": "stream",
          "text": [
            "(0, 21, 38)\n"
          ]
        }
      ],
      "source": [
        "#Initialize the model\n",
        "modelname1 = \"NTNA\"    #No Town No Ag = steady state with no pumping from town well\n",
        "m1 = flopy.modflow.Modflow(modelname1, exe_name = moddir)\n",
        "\n",
        "## Make some changes to the parameters\n",
        "#nlay_3lay=3  #two layers instead of 1\n",
        "botm = np.zeros((nlay,nrow,ncol)) # initialize array of zeros for bottom elevation for each model cell (dim: nlay,nrow,ncol)\n",
        "botm[0,:,:] = 45   # bottom elevation of top layer (0) is 45 m \n",
        "botm[1,:,:] = 40   # bottom elevation of middle layer (1) is 40 m\n",
        "\n",
        "## Make arrays for the K values\n",
        "Kz = np.zeros((nlay,nrow,ncol))     # define an array of zeros the size of the model grid (nlay, nrow, ncol)\n",
        "Kz[:,:,:] = K_xyz                   # assign the original value to the entire array\n",
        "Kz[1,20:-1,:] = K_mid_z             # assign middle layer Kz in right half of domain\n",
        "\n",
        "Kh = np.zeros((nlay,nrow,ncol))     # define an array of zeros the size of the model grid (nlay, nrow, ncol)\n",
        "Kh[:,:,:] = K_xyz                  # assign the original value to the entire array\n",
        "\n",
        "#Create dis object\n",
        "dis = flopy.modflow.ModflowDis(model=m1, nlay=nlay, nrow=nrow, ncol=ncol, \n",
        "                               delr=dx, delc=dy, top=ztop, botm=botm, \n",
        "                               itmuni = 4, lenuni = 2, \n",
        "                               nper=nper, steady=steady)\n",
        "\n",
        "# Boundary and initial conditions - bas\n",
        "ibound = np.ones((nlay, nrow, ncol), dtype=np.int32)     #array of ones to make every cell active\n",
        "ibound[:, :, -1] = -1   #right boundary of constant head\n",
        "ibound[:,:,0] = 0       #left boundary of no flow\n",
        "ibound[:,0,:] = 0       #top boundary of no flow\n",
        "ibound[:,-1,:] = 0      #bottom boundary of no flow\n",
        "\n",
        "#Impermeable bedrock in upper and lower left of each layer\n",
        "for i in range(0,9):                     #top layer bedrock\n",
        "    if i <= 5:\n",
        "        ibound[0, i, 0:5-i] = 0\n",
        "        ibound[0, -1-i, 0:5-i] = 0\n",
        "    elif 6 <= i <= 7:                    #middle layer bedrock\n",
        "        for j in range(0,7):\n",
        "            ibound[1, j, 0:7-j] = 0\n",
        "            ibound[1, -1-j, 0:7-j] = 0\n",
        "    else:\n",
        "        for k in range(0,9):             #bottom layer bedrock\n",
        "            ibound[2, k, 0:9-k] = 0\n",
        "            ibound[2, -1-k, 0:9-k] = 0\n",
        "\n",
        "#setup initial heads as 1 everywhere except on the boundaries\n",
        "H_init = np.ones((nlay, nrow, ncol), dtype=np.float32)  #float array (i.e. decimal), sets all heads to 1.0\n",
        "H_init[:, :, :] = h_right    #initialize the entire domain to the right head value\n",
        "bas = flopy.modflow.ModflowBas(m1, ibound=ibound, strt=H_init)\n",
        "\n",
        "#------------------------------------------------------\n",
        "#Model Map Layer 2\n",
        "#plot grid and ibound\n",
        "#plt.figure(figsize = (4,4))\n",
        "#modelmap = flopy.plot.PlotMapView(model=m1, layer=2)\n",
        "#grid = modelmap.plot_grid()\n",
        "#ib = modelmap.plot_ibound()\n",
        "#add labels and legend\n",
        "#plt.xlabel('Lx (m)',fontsize = 14)\n",
        "#plt.ylabel('Ly (m)',fontsize = 14)\n",
        "#plt.title('Ibound Bottom Layer', fontsize = 15, fontweight = 'bold')\n",
        "#plt.legend(handles=[mp.patches.Patch(color='blue',label='Const. Head',ec='black'),\n",
        "#                   mp.patches.Patch(color='white',label='Active Cell',ec='black'),\n",
        "#                   mp.patches.Patch(color='black',label='Inactive Cell',ec='black')],\n",
        "#                   bbox_to_anchor=(1.5,1.0))\n",
        "#plt.show(modelmap)\n",
        "#-------------------------------------------------------\n",
        "\n",
        "#Model Map Layer 1\n",
        "#plot grid and ibound\n",
        "#plt.figure(figsize = (4,4))\n",
        "#modelmap = flopy.plot.PlotMapView(model=m1, layer=1)\n",
        "#grid = modelmap.plot_grid()\n",
        "#ib = modelmap.plot_ibound()\n",
        "#add labels and legend\n",
        "#plt.xlabel('Lx (m)',fontsize = 14)\n",
        "#plt.ylabel('Ly (m)',fontsize = 14)\n",
        "#plt.title('Ibound Middle Layer', fontsize = 15, fontweight = 'bold')\n",
        "#plt.legend(handles=[mp.patches.Patch(color='blue',label='Const. Head',ec='black'),\n",
        "#                   mp.patches.Patch(color='white',label='Active Cell',ec='black'),\n",
        "#                   mp.patches.Patch(color='black',label='Inactive Cell',ec='black')],\n",
        "#                   bbox_to_anchor=(1.5,1.0))\n",
        "#plt.show(modelmap)\n",
        "#-------------------------------------------------------\n",
        "\n",
        "#Model Map Layer 0\n",
        "#plot grid and ibound\n",
        "plt.figure(figsize = (4,4))\n",
        "modelmap = flopy.plot.PlotMapView(model=m1, layer=0)\n",
        "grid = modelmap.plot_grid()\n",
        "ib = modelmap.plot_ibound()\n",
        "#add labels and legend\n",
        "plt.xlabel('Lx (m)',fontsize = 14)\n",
        "plt.ylabel('Ly (m)',fontsize = 14)\n",
        "plt.title('Ibound Top Layer', fontsize = 15, fontweight = 'bold')\n",
        "plt.legend(handles=[mp.patches.Patch(color='blue',label='Const. Head',ec='black'),\n",
        "                   mp.patches.Patch(color='white',label='Active Cell',ec='black'),\n",
        "                   mp.patches.Patch(color='black',label='Inactive Cell',ec='black')],\n",
        "                   bbox_to_anchor=(1.5,1.0))\n",
        "plt.show(modelmap)\n",
        "#-------------------------------------------------------\n",
        "\n",
        "#Well\n",
        "agwell_loc = (agwell_layer,agwell_row,agwell_col) \n",
        "#well_1 = [i for i in well_loc] + [pumping]\n",
        "#print(well_1)\n",
        "#print(\"Well 1 [layer, row, column, flux]: \\n\", well_1)\n",
        "#wel_spd = {0: [well_1]} #putting the well in the bottom layer\n",
        "#wel = flopy.modflow.ModflowWel(model=m1, stress_period_data=wel_spd)\n",
        "\n",
        "\n",
        "#townwell_loc = (townwell_layer,townwell_row,townwell_col) #Well loc should be layer, row, column\n",
        "#townwell = [i for i in townwell_loc] + [townwell_Q]\n",
        "#print(\"Well 1 [layer, row, column, flux]: \\n\", townwell)\n",
        "#wel_spd = {0: [townwell]} #putting the well in the bottom layer\n",
        "#wel = flopy.modflow.ModflowWel(model=m1, stress_period_data=wel_spd)\n",
        "\n",
        "#From HW10_Boyd - Do we need this?\n",
        "#Town well - seems to be working\n",
        "#pumping = townwell_Q  #m3/day  #given\n",
        "#townwell_xy= [21, 38] #xy location of well \n",
        "#townwell_row = np.floor((nrow-1)-(townwell_xy[1]/dy)) #convert the y location to a row\n",
        "#townwell_col=np.floor(townwell_xy[0]/dx-1) #convert the x location to a column\n",
        "townwell_loc = (0,townwell_row,townwell_col) #Well loc should be layer, row, column\n",
        "\n",
        "#Well\n",
        "townwell = [i for i in townwell_loc] + [townwell_Q]  #layer, row, col, flux\n",
        "print(townwell_loc)\n",
        "townwell_spd = {0: [townwell]} #putting the well in the bottom layer\n",
        "#t_well = flopy.modflow.ModflowWel(model=m1, stress_period_data=townwell_spd)\n",
        "\n",
        "\n",
        "#Recharge \n",
        "rech_zone = np.zeros((nrow,ncol))               #define an array of zeros of dim (nrow,ncol)\n",
        "#This background recharge breaks the model\n",
        "#rech_zone[:,0:16] = recharge                   #recharge only occurs in 15 leftmost columns\n",
        "\n",
        "#Ag recharge\n",
        "rech_zone[21:23,:] = 1/8 * recharge     #inclusive\n",
        "rech_zone[:,19:21] = 1/8 * recharge     #inclusive\n",
        "\n",
        "rch = flopy.modflow.mfrch.ModflowRch(model=m1, rech=rech_zone, ipakcb=53)     #create rch object\n",
        "\n",
        "#Output control - OC \n",
        "spd = {(0,0):['print head', 'print budget', 'save head', 'save budget']} #create a dictionary for stress period data, where key (0,0) is associated with value ['print...'] \n",
        "oc = flopy.modflow.ModflowOc(model=m1, stress_period_data=spd, compact=True)\n",
        "\n",
        "#Numerical solver - pcg\n",
        "pcg = flopy.modflow.ModflowPcg(model=m1)\n"
      ]
    },
    {
      "cell_type": "code",
      "execution_count": 12,
      "metadata": {},
      "outputs": [
        {
          "name": "stdout",
          "output_type": "stream",
          "text": [
            "(0, 21, 38)\n",
            "[0, 21, 38, -1500]\n"
          ]
        }
      ],
      "source": [
        "print(townwell_loc)\n",
        "print(townwell)"
      ]
    },
    {
      "cell_type": "markdown",
      "metadata": {},
      "source": [
        "#### Setup stream"
      ]
    },
    {
      "cell_type": "code",
      "execution_count": 13,
      "metadata": {},
      "outputs": [
        {
          "data": {
            "image/png": "[encoded data removed]",
            "text/plain": [
              "<Figure size 432x288 with 1 Axes>"
            ]
          },
          "metadata": {
            "needs_background": "light"
          },
          "output_type": "display_data"
        }
      ],
      "source": [
        "#STREAM WITH MULTIPLE SEGMENTS\n",
        "stage = 0.5 #given: .5 m above bed\n",
        "\n",
        "#STREAM WITH MULTIPLE REACHES\n",
        "#Setup the stream characteristics\n",
        "nseg = 3 # number of segments\n",
        "ntrib=2 # two tributaries (for return flow & upstream section)\n",
        "slope = 0.001  #slope of streambed (m/m)\n",
        "rough = 0.04 #roughness of streambed\n",
        "width = 1. #x-sectional width of channel (m)\n",
        "Flow_into_the_1st_reach = 0 # m^3/day\n",
        "\n",
        "#CHANGED\n",
        "#set_icalc = 1  # the stage is to be calculated based on flow\n",
        "icalc = 1  # the stage is to be calculated based on flow\n",
        "\n",
        "const = 86400.0 #multiplication constant for m3/day \n",
        "\n",
        "#Calculate the streambed conductance\n",
        "k_strbott = 10  #river bottom hydraulic conductivity in l/t\n",
        "sed_thick = 1 #thickness of riverbed sediment \n",
        "cond = k_strbott*(width)*(dy)/(sed_thick) \n",
        "\n",
        "#STREAM THICKNESS, NOT SURE\n",
        "thickness = sed_thick + 7  #(str_bott = 7 in single segment example)\n",
        "\n",
        "#Setup the reach locations, stream segment numbers, and reach numbers\n",
        "#Setup the reach locations – here the row value will be 25 for each reach and the column values will go from 0-49\n",
        "nreach =  50   # river extending the width of the domain\n",
        "str_rows = 25*np.ones((nreach),dtype=np.int32)  # integer array of row #s for each reach \n",
        "str_cols = np.arange(0,nreach)  # integer array of col #s for each reach \n",
        "\n",
        "#setup segment numbers – this is a list of segment values that goes with each reach\n",
        "return_loc = 25    #specifying the column where the town return flows come in\n",
        "segments = np.ones((nreach),dtype=np.int32)    # make a segment array that is nreach long and initialize all the values to 1\n",
        "segments[return_loc] = 2    #Change the segment number to ‘2’ where the town recharge comes in\n",
        "segments[return_loc+1:nreach] = 3    # Change the segment number to ‘3’ everywhere downstream of the the town well\n",
        "\n",
        "#Setup the inflows for the reaches\n",
        "Qreturn =50     # return flow from the town\n",
        "reach_flow = np.zeros((nreach),dtype=np.int32)  # initially set all inflows to zero for all reaches\n",
        "reach_flow[return_loc] = Qreturn # inflow to seg2 = return from town\n",
        "reach_flow[return_loc+1] = -1 # inflow to seg3 = sum of all previous segs\n",
        "\n",
        "#setup reach numbers – this will be the numbering of the reaches within each segment. \n",
        "# Recall that numbering starts and one and increases moving downstream\n",
        "reaches = np.arange(1,nreach+1)   # create an array of reach #s counting from 1-50\n",
        "reaches[return_loc] = 1    # reassign the reach number to be 1 for segment 2\n",
        "reaches[return_loc+1:nreach] = np.arange(1,nreach-(return_loc+1)+1)  # reassign the reach numbers for segment 3 to start counting at 1\n",
        "\n",
        "#Setup the elevation of the streams\n",
        "#(In this case we will be setting it relative to surface elevation which is an array called ‘ztop’)\n",
        "\n",
        "ztop = np.genfromtxt('BASE_top_elev.csv', delimiter=',') # top elevation of top layer (import from csv file) (dim: nrow, ncol)\n",
        "surf_elev = np.zeros((nreach))   # create array of zeros the length of the stream\n",
        "\n",
        "# loop over the stream reaches and pull the land surface elevation for the location of each stream cell\n",
        "for i in np.arange(nreach): \n",
        "      surf_elev[i] = ztop[str_rows[i],str_cols[i]]\n",
        "Stop = surf_elev -  1.    # elevation of the top of the streambed (1 m below land surface) (m)\n",
        "Sbot = Stop - thickness      # elevation of the bottom of the streambed (m)\n",
        "stage_elev = Stop + stage      # elevation of the water surface in the stream (m)\n",
        "\n",
        "#5. Setup the stress period dictionary\n",
        "str_info = np.zeros((nreach,13)) # create array of zeros for reaches, each reach requires 13 input values\n",
        "\n",
        "#CHANGED Kstream TO k_strbott\n",
        "for r in np.arange(nreach): \n",
        "     str_info[r,:] = [0, str_rows[r], str_cols[r], segments[r], reaches[r], reach_flow[r], stage_elev[r], k_strbott, Sbot[r], Stop[r],    \t\twidth,  slope, rough]\n",
        "str_spd = {0: str_info} # save the stream info in a stress period dictionary\n",
        "\n",
        "#5. Setup the segments dictionary\n",
        "#for each segment, need an array of 10 zeros, for last segment, first two values are seg #s of upstream segments\n",
        "seg_info = np.zeros((10,nseg))\n",
        "seg_info = [[0, 0, 0, 0, 0, 0, 0, 0, 0, 0, 0], [0, 0, 0, 0, 0, 0, 0, 0, 0, 0, 0], [1, 2, 0, 0, 0, 0, 0, 0, 0, 0, 1]]\n",
        "str_segd = {0: seg_info}  #save the stream info in a segment dictionary\n",
        "\n",
        "#6. Setup the modflow package call  CHANGED mf TO m1\n",
        "strm = flopy.modflow.mfstr.ModflowStr(m1, mxacts=nreach, nss=nseg, ntrib=ntrib, ndiv=0,icalc=icalc, const=const, ipakcb=53, istcb2=53, dtype=None, stress_period_data=str_spd, segment_data=str_segd, extension='str')\n",
        "\n",
        "#Layer properties - lpf\n",
        "lpf = flopy.modflow.ModflowLpf(m1, laytyp=uncnf, hk=Kh, \n",
        "                               vka=Kz, ss=Ss,\n",
        "                               sy=Sy,storagecoefficient=True, ipakcb=53) \n",
        "\n",
        "#Plot model grid with stream\n",
        "modelmap = flopy.plot.PlotMapView(model=m1, layer=0)\n",
        "grid=modelmap.plot_grid()\n",
        "ib = modelmap.plot_ibound()\n",
        "plt.xlabel('Lx (m)', fontsize=14)\n",
        "plt.ylabel('Ly (m)', fontsize=14)\n",
        "plt.title('NTNA Top Layer', fontsize=15, fontweight='bold')\n",
        "str_m = modelmap.plot_bc('STR')\n",
        "plt.legend(handles=[mp.patches.Patch(color='purple',label='Stream', ec='black'),\n",
        "       mp.patches.Patch(color='white',label='Active Cell',ec='black'),\n",
        "                   mp.patches.Patch(color='black',label='Inactive Cell',ec='black')],\n",
        "                   bbox_to_anchor=(1.5,1.0))\n",
        "plt.show(modelmap)\n"
      ]
    },
    {
      "cell_type": "markdown",
      "metadata": {},
      "source": [
        "#### Run modflow"
      ]
    },
    {
      "cell_type": "code",
      "execution_count": 14,
      "metadata": {},
      "outputs": [
        {
          "name": "stdout",
          "output_type": "stream",
          "text": [
            "FloPy is using the following executable to run the model: C:/Users/tento/Documents/GW_Modeling/homework-akahler03/Working/mf2005.exe\n",
            "\n",
            "                                  MODFLOW-2005     \n",
            "    U.S. GEOLOGICAL SURVEY MODULAR FINITE-DIFFERENCE GROUND-WATER FLOW MODEL\n",
            "                             Version 1.11.00 8/8/2013                        \n",
            "\n",
            " Using NAME file: NTNA.nam \n",
            " Run start date and time (yyyy/mm/dd hh:mm:ss): 2022/04/21 18:32:41\n",
            "\n",
            " Solving:  Stress period:     1    Time step:     1    Ground-Water Flow Eqn.\n",
            " Run end date and time (yyyy/mm/dd hh:mm:ss): 2022/04/21 18:32:41\n",
            " Elapsed run time:  0.113 Seconds\n",
            "\n",
            "  Normal termination of simulation\n"
          ]
        }
      ],
      "source": [
        "#write the inputs\n",
        "m1.write_input()    \n",
        "\n",
        "#Run the model \n",
        "success, mfoutput = m1.run_model(pause=False, report=True)\n",
        "if not success:\n",
        "    raise Exception('MODFLOW did not terminate normally.')"
      ]
    },
    {
      "cell_type": "markdown",
      "metadata": {},
      "source": [
        "### Plot stream related results - issues"
      ]
    },
    {
      "cell_type": "code",
      "execution_count": 15,
      "metadata": {},
      "outputs": [
        {
          "ename": "ValueError",
          "evalue": "x and y must have same first dimension, but have shapes (50,) and (0,)",
          "output_type": "error",
          "traceback": [
            "\u001b[1;31m---------------------------------------------------------------------------\u001b[0m",
            "\u001b[1;31mValueError\u001b[0m                                Traceback (most recent call last)",
            "\u001b[1;32mc:\\Users\\tento\\Documents\\GW_Modeling\\homework-akahler03\\Working\\HW12_WatershedModel\\COPY_HW12_restart_HW10.ipynb Cell 13'\u001b[0m in \u001b[0;36m<module>\u001b[1;34m\u001b[0m\n\u001b[0;32m     <a href='vscode-notebook-cell:/c%3A/Users/tento/Documents/GW_Modeling/homework-akahler03/Working/HW12_WatershedModel/COPY_HW12_restart_HW10.ipynb#ch0000017?line=44'>45</a>\u001b[0m ax2\u001b[39m.\u001b[39mset_title(\u001b[39m'\u001b[39m\u001b[39mHeads\u001b[39m\u001b[39m'\u001b[39m)\n\u001b[0;32m     <a href='vscode-notebook-cell:/c%3A/Users/tento/Documents/GW_Modeling/homework-akahler03/Working/HW12_WatershedModel/COPY_HW12_restart_HW10.ipynb#ch0000017?line=45'>46</a>\u001b[0m ax2\u001b[39m.\u001b[39maxhline(y\u001b[39m=\u001b[39mstage,  color\u001b[39m=\u001b[39m\u001b[39m'\u001b[39m\u001b[39mblue\u001b[39m\u001b[39m'\u001b[39m, label\u001b[39m=\u001b[39m\u001b[39m\"\u001b[39m\u001b[39mStage Head\u001b[39m\u001b[39m\"\u001b[39m)\n\u001b[1;32m---> <a href='vscode-notebook-cell:/c%3A/Users/tento/Documents/GW_Modeling/homework-akahler03/Working/HW12_WatershedModel/COPY_HW12_restart_HW10.ipynb#ch0000017?line=46'>47</a>\u001b[0m ax2\u001b[39m.\u001b[39;49mplot(reach, head_reach, color\u001b[39m=\u001b[39;49m\u001b[39m'\u001b[39;49m\u001b[39mred\u001b[39;49m\u001b[39m'\u001b[39;49m, label\u001b[39m=\u001b[39;49m\u001b[39m\"\u001b[39;49m\u001b[39mHead in the Cell\u001b[39;49m\u001b[39m\"\u001b[39;49m, marker\u001b[39m=\u001b[39;49m\u001b[39m'\u001b[39;49m\u001b[39mo\u001b[39;49m\u001b[39m'\u001b[39;49m) \n\u001b[0;32m     <a href='vscode-notebook-cell:/c%3A/Users/tento/Documents/GW_Modeling/homework-akahler03/Working/HW12_WatershedModel/COPY_HW12_restart_HW10.ipynb#ch0000017?line=47'>48</a>\u001b[0m ax2\u001b[39m.\u001b[39maxhline(y\u001b[39m=\u001b[39mstr_top,  color\u001b[39m=\u001b[39m\u001b[39m'\u001b[39m\u001b[39mtan\u001b[39m\u001b[39m'\u001b[39m, linestyle\u001b[39m=\u001b[39m\u001b[39m'\u001b[39m\u001b[39m--\u001b[39m\u001b[39m'\u001b[39m, label\u001b[39m=\u001b[39m\u001b[39m\"\u001b[39m\u001b[39mStreambed Top\u001b[39m\u001b[39m\"\u001b[39m)\n\u001b[0;32m     <a href='vscode-notebook-cell:/c%3A/Users/tento/Documents/GW_Modeling/homework-akahler03/Working/HW12_WatershedModel/COPY_HW12_restart_HW10.ipynb#ch0000017?line=48'>49</a>\u001b[0m ax2\u001b[39m.\u001b[39maxhline(y\u001b[39m=\u001b[39mstr_bott,  color\u001b[39m=\u001b[39m\u001b[39m'\u001b[39m\u001b[39mbrown\u001b[39m\u001b[39m'\u001b[39m, linestyle\u001b[39m=\u001b[39m\u001b[39m'\u001b[39m\u001b[39m--\u001b[39m\u001b[39m'\u001b[39m, label\u001b[39m=\u001b[39m\u001b[39m\"\u001b[39m\u001b[39mStreambed Bottom\u001b[39m\u001b[39m\"\u001b[39m)\n",
            "File \u001b[1;32m~\\Miniconda3\\envs\\gwmod\\lib\\site-packages\\matplotlib\\axes\\_axes.py:1632\u001b[0m, in \u001b[0;36mAxes.plot\u001b[1;34m(self, scalex, scaley, data, *args, **kwargs)\u001b[0m\n\u001b[0;32m   <a href='file:///c%3A/Users/tento/Miniconda3/envs/gwmod/lib/site-packages/matplotlib/axes/_axes.py?line=1389'>1390</a>\u001b[0m \u001b[39m\"\"\"\u001b[39;00m\n\u001b[0;32m   <a href='file:///c%3A/Users/tento/Miniconda3/envs/gwmod/lib/site-packages/matplotlib/axes/_axes.py?line=1390'>1391</a>\u001b[0m \u001b[39mPlot y versus x as lines and/or markers.\u001b[39;00m\n\u001b[0;32m   <a href='file:///c%3A/Users/tento/Miniconda3/envs/gwmod/lib/site-packages/matplotlib/axes/_axes.py?line=1391'>1392</a>\u001b[0m \n\u001b[1;32m   (...)\u001b[0m\n\u001b[0;32m   <a href='file:///c%3A/Users/tento/Miniconda3/envs/gwmod/lib/site-packages/matplotlib/axes/_axes.py?line=1628'>1629</a>\u001b[0m \u001b[39m(``'green'``) or hex strings (``'#008000'``).\u001b[39;00m\n\u001b[0;32m   <a href='file:///c%3A/Users/tento/Miniconda3/envs/gwmod/lib/site-packages/matplotlib/axes/_axes.py?line=1629'>1630</a>\u001b[0m \u001b[39m\"\"\"\u001b[39;00m\n\u001b[0;32m   <a href='file:///c%3A/Users/tento/Miniconda3/envs/gwmod/lib/site-packages/matplotlib/axes/_axes.py?line=1630'>1631</a>\u001b[0m kwargs \u001b[39m=\u001b[39m cbook\u001b[39m.\u001b[39mnormalize_kwargs(kwargs, mlines\u001b[39m.\u001b[39mLine2D)\n\u001b[1;32m-> <a href='file:///c%3A/Users/tento/Miniconda3/envs/gwmod/lib/site-packages/matplotlib/axes/_axes.py?line=1631'>1632</a>\u001b[0m lines \u001b[39m=\u001b[39m [\u001b[39m*\u001b[39m\u001b[39mself\u001b[39m\u001b[39m.\u001b[39m_get_lines(\u001b[39m*\u001b[39margs, data\u001b[39m=\u001b[39mdata, \u001b[39m*\u001b[39m\u001b[39m*\u001b[39mkwargs)]\n\u001b[0;32m   <a href='file:///c%3A/Users/tento/Miniconda3/envs/gwmod/lib/site-packages/matplotlib/axes/_axes.py?line=1632'>1633</a>\u001b[0m \u001b[39mfor\u001b[39;00m line \u001b[39min\u001b[39;00m lines:\n\u001b[0;32m   <a href='file:///c%3A/Users/tento/Miniconda3/envs/gwmod/lib/site-packages/matplotlib/axes/_axes.py?line=1633'>1634</a>\u001b[0m     \u001b[39mself\u001b[39m\u001b[39m.\u001b[39madd_line(line)\n",
            "File \u001b[1;32m~\\Miniconda3\\envs\\gwmod\\lib\\site-packages\\matplotlib\\axes\\_base.py:312\u001b[0m, in \u001b[0;36m_process_plot_var_args.__call__\u001b[1;34m(self, data, *args, **kwargs)\u001b[0m\n\u001b[0;32m    <a href='file:///c%3A/Users/tento/Miniconda3/envs/gwmod/lib/site-packages/matplotlib/axes/_base.py?line=309'>310</a>\u001b[0m     this \u001b[39m+\u001b[39m\u001b[39m=\u001b[39m args[\u001b[39m0\u001b[39m],\n\u001b[0;32m    <a href='file:///c%3A/Users/tento/Miniconda3/envs/gwmod/lib/site-packages/matplotlib/axes/_base.py?line=310'>311</a>\u001b[0m     args \u001b[39m=\u001b[39m args[\u001b[39m1\u001b[39m:]\n\u001b[1;32m--> <a href='file:///c%3A/Users/tento/Miniconda3/envs/gwmod/lib/site-packages/matplotlib/axes/_base.py?line=311'>312</a>\u001b[0m \u001b[39myield from\u001b[39;00m \u001b[39mself\u001b[39;49m\u001b[39m.\u001b[39;49m_plot_args(this, kwargs)\n",
            "File \u001b[1;32m~\\Miniconda3\\envs\\gwmod\\lib\\site-packages\\matplotlib\\axes\\_base.py:498\u001b[0m, in \u001b[0;36m_process_plot_var_args._plot_args\u001b[1;34m(self, tup, kwargs, return_kwargs)\u001b[0m\n\u001b[0;32m    <a href='file:///c%3A/Users/tento/Miniconda3/envs/gwmod/lib/site-packages/matplotlib/axes/_base.py?line=494'>495</a>\u001b[0m     \u001b[39mself\u001b[39m\u001b[39m.\u001b[39maxes\u001b[39m.\u001b[39myaxis\u001b[39m.\u001b[39mupdate_units(y)\n\u001b[0;32m    <a href='file:///c%3A/Users/tento/Miniconda3/envs/gwmod/lib/site-packages/matplotlib/axes/_base.py?line=496'>497</a>\u001b[0m \u001b[39mif\u001b[39;00m x\u001b[39m.\u001b[39mshape[\u001b[39m0\u001b[39m] \u001b[39m!=\u001b[39m y\u001b[39m.\u001b[39mshape[\u001b[39m0\u001b[39m]:\n\u001b[1;32m--> <a href='file:///c%3A/Users/tento/Miniconda3/envs/gwmod/lib/site-packages/matplotlib/axes/_base.py?line=497'>498</a>\u001b[0m     \u001b[39mraise\u001b[39;00m \u001b[39mValueError\u001b[39;00m(\u001b[39mf\u001b[39m\u001b[39m\"\u001b[39m\u001b[39mx and y must have same first dimension, but \u001b[39m\u001b[39m\"\u001b[39m\n\u001b[0;32m    <a href='file:///c%3A/Users/tento/Miniconda3/envs/gwmod/lib/site-packages/matplotlib/axes/_base.py?line=498'>499</a>\u001b[0m                      \u001b[39mf\u001b[39m\u001b[39m\"\u001b[39m\u001b[39mhave shapes \u001b[39m\u001b[39m{\u001b[39;00mx\u001b[39m.\u001b[39mshape\u001b[39m}\u001b[39;00m\u001b[39m and \u001b[39m\u001b[39m{\u001b[39;00my\u001b[39m.\u001b[39mshape\u001b[39m}\u001b[39;00m\u001b[39m\"\u001b[39m)\n\u001b[0;32m    <a href='file:///c%3A/Users/tento/Miniconda3/envs/gwmod/lib/site-packages/matplotlib/axes/_base.py?line=499'>500</a>\u001b[0m \u001b[39mif\u001b[39;00m x\u001b[39m.\u001b[39mndim \u001b[39m>\u001b[39m \u001b[39m2\u001b[39m \u001b[39mor\u001b[39;00m y\u001b[39m.\u001b[39mndim \u001b[39m>\u001b[39m \u001b[39m2\u001b[39m:\n\u001b[0;32m    <a href='file:///c%3A/Users/tento/Miniconda3/envs/gwmod/lib/site-packages/matplotlib/axes/_base.py?line=500'>501</a>\u001b[0m     \u001b[39mraise\u001b[39;00m \u001b[39mValueError\u001b[39;00m(\u001b[39mf\u001b[39m\u001b[39m\"\u001b[39m\u001b[39mx and y can be no greater than 2D, but have \u001b[39m\u001b[39m\"\u001b[39m\n\u001b[0;32m    <a href='file:///c%3A/Users/tento/Miniconda3/envs/gwmod/lib/site-packages/matplotlib/axes/_base.py?line=501'>502</a>\u001b[0m                      \u001b[39mf\u001b[39m\u001b[39m\"\u001b[39m\u001b[39mshapes \u001b[39m\u001b[39m{\u001b[39;00mx\u001b[39m.\u001b[39mshape\u001b[39m}\u001b[39;00m\u001b[39m and \u001b[39m\u001b[39m{\u001b[39;00my\u001b[39m.\u001b[39mshape\u001b[39m}\u001b[39;00m\u001b[39m\"\u001b[39m)\n",
            "\u001b[1;31mValueError\u001b[0m: x and y must have same first dimension, but have shapes (50,) and (0,)"
          ]
        },
        {
          "data": {
            "image/png": "[encoded data removed]",
            "text/plain": [
              "<Figure size 864x360 with 3 Axes>"
            ]
          },
          "metadata": {
            "needs_background": "light"
          },
          "output_type": "display_data"
        }
      ],
      "source": [
        "# Reading budget and head output files\n",
        "budgobj1 = bf.CellBudgetFile(modelname1+'.cbc')   #reads the cell budget file    \n",
        "#print(budgobj1.get_unique_record_names())\n",
        "frf = budgobj1.get_data(text='flow right face', totim=1.0) #returns an array of flow rates for right face of cells\n",
        "fff = budgobj1.get_data(text='flow front face', totim=1.0) #returns an array of flow rates for front face of cells \n",
        "leak = budgobj1.get_data(text='STREAM LEAKAGE', totim=1.0) \n",
        "\n",
        "str_outflow = budgobj1.get_data(text='STREAM FLOW OUT', totim=1.0) \n",
        "ch_flow = budgobj1.get_data(text='CONSTANT HEAD', totim=1.0) \n",
        "\n",
        "headobj = flopy.utils.binaryfile.HeadFile(modelname1+'.hds')\n",
        "head = headobj.get_data(totim=1.0)\n",
        "\n",
        "#Preparing variables for plotting \n",
        "leakage = leak[0]\n",
        "str_outflow = str_outflow[0]\n",
        "str_inflow = str_outflow[:nrow-1]\n",
        "str_inflow = str_inflow['q']\n",
        "str_inflow = str_inflow.tolist()\n",
        "str_inflow.insert(0, Flow_into_the_1st_reach) \n",
        "reach = np.arange(0,nrow,1) + 1\n",
        "head_reach=[]\n",
        "#x_str = str_spd[0][2]        # Having issue calling dictionary as scalar\n",
        "\n",
        "#x_str=int(x_str)\n",
        "#for i in range(nrow):\n",
        "#    head_reach.append(head[0][i][x_str])\n",
        "\n",
        "#####################################################################\n",
        "# Plotting reach wise water budget\n",
        "f, (ax1, ax2, ax3) = plt.subplots(1, 3, figsize=(12, 5))\n",
        "#ax.set_aspect('equal')\n",
        "ax1.set_title('Flows')\n",
        "# ax1.plot(reach, leakage['q'], lw=3, label=\"Leaked to Aquifer\", marker='o') \n",
        "ax1.plot(reach, str_outflow['q'], label=\"Flow out\", marker='o') \n",
        "ax1.plot(reach, str_inflow, color='red', label=\"Flow in\", linestyle='--', marker='o') \n",
        "# ax1.axhline(y=0,  color='black', linestyle='--')\n",
        "ax1.set_xlabel('Row Number')\n",
        "#ax1.set_xticks(reach)\n",
        "ax1.set_ylabel('Flow (m^3/d)')\n",
        "ax1.legend()\n",
        "\n",
        "#####################################################################\n",
        "# Plotting reach wise heads\n",
        "ax2.set_title('Heads')\n",
        "ax2.axhline(y=stage,  color='blue', label=\"Stage Head\")\n",
        "ax2.plot(reach, head_reach, color='red', label=\"Head in the Cell\", marker='o') \n",
        "ax2.axhline(y=str_top,  color='tan', linestyle='--', label=\"Streambed Top\")\n",
        "ax2.axhline(y=str_bott,  color='brown', linestyle='--', label=\"Streambed Bottom\")\n",
        "ax2.set_xlabel('Row Number')\n",
        "#ax2.set_xticks(reach)\n",
        "ax2.set_ylabel('Head (m)')\n",
        "ax2.legend()"
      ]
    },
    {
      "cell_type": "markdown",
      "metadata": {},
      "source": [
        "#### Shaded cross section - xsect - ValueError: Axis limits cannot be NaN or Inf"
      ]
    },
    {
      "cell_type": "code",
      "execution_count": null,
      "metadata": {},
      "outputs": [],
      "source": [
        "#Plot cross sectional heads\n",
        "headobj = bf.HeadFile(modelname1+'.hds')    #reads the binary head file\n",
        "times = headobj.get_times()                 #returns a list of timesteps\n",
        "head = headobj.get_data(totim=times[-1])   #returns a numpy array of heads for specified time (last timestep)\n",
        "\n",
        "fig = plt.figure(figsize=(15, 5))\n",
        "ax = fig.add_subplot(1, 1, 1)\n",
        "\n",
        "xsect = flopy.plot.PlotCrossSection(model=m1, line={'row': 24}, extent = (0, 50000,0,120)) #note use the key 'column' if you want to plot a column instaed\n",
        "pc = xsect.plot_array(head, masked_values=[-999.99], head=head, alpha=0.5)\n",
        "patches = xsect.plot_ibound(head=head)\n",
        "patches = xsect.plot_ibound(color_noflow='red', color_ch='blue')\n",
        "patches = xsect.plot_bc('WEL', color='red')\n",
        "linecollection = xsect.plot_grid(color='black', lw=0.5)\n",
        "t = ax.set_title('NTNA Row 25 Cross-Section')\n",
        "cb = plt.colorbar(pc, shrink=0.75)\n",
        "#Overlay the head in a layer of the model\n",
        "wt = xsect.plot_surface(head[0,:,:], masked_values=[-999.99], color='blue', lw=1)\n"
      ]
    },
    {
      "cell_type": "code",
      "execution_count": null,
      "metadata": {},
      "outputs": [],
      "source": []
    },
    {
      "cell_type": "markdown",
      "metadata": {},
      "source": [
        "#### Plot heads"
      ]
    },
    {
      "cell_type": "code",
      "execution_count": null,
      "metadata": {},
      "outputs": [],
      "source": [
        "# Plotting heads and flow arrows\n",
        "plt.figure() \n",
        "modelmap = flopy.plot.PlotMapView(model=m1, layer=0) #use modelmap to attach plot to model\n",
        "#grid = modelmap.plot_grid() #plot model grid\n",
        "contour_levels = np.linspace(head[0].min(),head[0].max(),15) #set contour levels for contouring head\n",
        "head_contours = modelmap.contour_array(head, levels=contour_levels) #create head contours\n",
        "flows = modelmap.plot_discharge(frf[0], fff[0], head=head) #create discharge arrows\n",
        "#display parameters\n",
        "plt.xlabel('Lx (m)',fontsize = 14)\n",
        "plt.ylabel('Ly (m)',fontsize = 14)\n",
        "#plt.title('Steady-State Pumping, Flow(f^3/d) and Head(m) Results', fontsize = 15, fontweight = 'bold')\n",
        "plt.colorbar(head_contours, aspect=5)\n",
        "plt.show(modelmap)"
      ]
    },
    {
      "cell_type": "code",
      "execution_count": null,
      "metadata": {},
      "outputs": [],
      "source": []
    }
  ],
  "metadata": {
    "colab": {
      "name": "HW10_model_Boyd.ipynb",
      "provenance": []
    },
    "kernelspec": {
      "display_name": "Python 3",
      "language": "python",
      "name": "python3"
    },
    "language_info": {
      "codemirror_mode": {
        "name": "ipython",
        "version": 3
      },
      "file_extension": ".py",
      "mimetype": "text/x-python",
      "name": "python",
      "nbconvert_exporter": "python",
      "pygments_lexer": "ipython3",
      "version": "3.8.12"
    }
  },
  "nbformat": 4,
  "nbformat_minor": 0
}
