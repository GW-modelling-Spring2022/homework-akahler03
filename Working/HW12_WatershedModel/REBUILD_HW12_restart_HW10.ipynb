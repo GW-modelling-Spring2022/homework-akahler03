{
  "cells": [
    {
      "cell_type": "markdown",
      "metadata": {
        "id": "RaVDQwqfxPZI"
      },
      "source": [
        "# HW 12: The Big Challenge\n",
        "## Abigail Kahler, HWRS 582\n",
        "\n",
        "## Model Description \n",
        "This is a steady state, layered box model with recharge.\n",
        "\n",
        "#### Dimensions: \n",
        "- 50 by 50 by 1\n",
        "- dx = dy = 1000 m\n",
        "- dz = 150 m  \n",
        "\n",
        "#### Topography\n",
        "- Bottom of the domain is flat, bottom layer is 40m thick\n",
        "- Middle layer is also flat, and 5 m thick\n",
        "- Top layer elevation is provided in BASE_TOP_ELEV_CSV\n",
        "\n",
        "#### Subsurface Properties: \n",
        "- Homogeneous within each of three layers \n",
        "- K top and bottom layers = 8.5 m/day in x, y and z.\n",
        "- K middle layer = same as top and bottom for leftmost 20 columns\n",
        "- K middle layer: 0.0001 m/day in z direction for rightmost 30 columns \n",
        "- Porosity = 0.1\n",
        "- Specific yield = 0.1\n",
        "- Storage coefficient=0.0001   \n",
        "\n",
        "#### Boundary Conditions: \n",
        " - Right boundary for all layers is defined by a constant head of 70 m relative to the datum (located at bottom of domain).\n",
        " - Left, top, and bottom boundaries are no flow.\n",
        " \n",
        "#### Stream Properties: \n",
        "- Inflow to first reach = 0 m3/d\n",
        "- Streambed slope = 0.001 m/m\n",
        "- Streambed rough = 0.04\n",
        "- Streambed width = 1 m\n",
        "- Streambed K = 1.36 x horizontal K of top layer\n",
        "- Streambed thickness = 1 m\n",
        "- Stream bottom depth = 2 m #to set stream 1 m below ground surface\n",
        "- Stage = .5 m\n",
        "\n",
        "#### Well: \n",
        " - Town pumping well\n",
        "     - Located at row 21, column 38 screened in bottom layer\n",
        "     - Pumping at a rate of 1500 m^3/day \n",
        "     - Some treated water returned to stream at column 25\n",
        "\n",
        "  - Ag pumping well\n",
        "    - Screen in top layer, row 12, columns 14\n",
        "    - Pumping rate = crop water demand plus 20% for excess irrigation\n",
        "      plus 30% for irrigation efficiency\n",
        "    - Pumping rate wheat = 3000 m/day\n",
        "    - Pumping rate pistachios = 4500 m/day\n",
        "    - Pumping rate cotton = 6000 m/day\n",
        "     "
      ]
    },
    {
      "cell_type": "markdown",
      "metadata": {
        "id": "PmcCUnZTxPZM"
      },
      "source": [
        "### 1. Setup the environment"
      ]
    },
    {
      "cell_type": "code",
      "execution_count": 1,
      "metadata": {
        "id": "Gqqw30GjxPZN"
      },
      "outputs": [],
      "source": [
        "#the basics\n",
        "import flopy\n",
        "import numpy as np\n",
        "import matplotlib as mp\n",
        "import os\n",
        "\n",
        "#additional analysis tools\n",
        "import flopy.utils.binaryfile as bf\n",
        "from mpl_toolkits.mplot3d import Axes3D\n",
        "import matplotlib.pyplot as plt\n",
        "from matplotlib import cm\n",
        "from matplotlib.ticker import LinearLocator, FormatStrFormatter\n",
        "import csv\n",
        "from matplotlib import ticker\n",
        "\n",
        "#jupyter specific--included to show plots in notebook\n",
        "%matplotlib inline "
      ]
    },
    {
      "cell_type": "markdown",
      "metadata": {
        "id": "IWZreoCWxPZO"
      },
      "source": [
        "### NTNA 2. Setup the input variables "
      ]
    },
    {
      "cell_type": "code",
      "execution_count": 2,
      "metadata": {},
      "outputs": [],
      "source": [
        "## model directory\n",
        "moddir= \"C:/Users/tento/Documents/GW_Modeling/homework-akahler03/Working/mf2005.exe\"\n",
        "\n",
        "#Initialize the model\n",
        "modelname1 = \"NTNA\"    #No Town No Ag = steady state with no pumping from town well\n",
        "m1 = flopy.modflow.Modflow(modelname1, exe_name = moddir)\n",
        "\n",
        "## Discretization\n",
        "nrow = 50 #number of rows\n",
        "ncol = 50 #number of columns\n",
        "nlay = 3  #number of layers\n",
        "nreach = ncol\n",
        "\n",
        "dx= 1000 #width of grid cells in x direction (m)\n",
        "dy= 1000 #width of grid cells in y direction (m)\n",
        "Lx = ncol*dx  #width of domain in x\n",
        "Ly = nrow*dy #width of domain in y\n",
        "\n",
        "#Read in surface elevation\n",
        "ztop = np.genfromtxt('BASE_top_elev.csv', delimiter=',') # top elevation of top layer (import from csv file) (dim: nrow, ncol)\n",
        "#surf_elev = np.zeros((nreach))   # create array of zeros the length of the stream\n",
        "zbot = 0.     #bottom elevation\n",
        "dz = (ztop - zbot) / nlay #cell height in z direction\n",
        "\n",
        "## Timing\n",
        "nper = 1 #number of stress periods \n",
        "steady = [True] #list noting the stress period type\n",
        "\n",
        "## Subsurface properties\n",
        "K_xyz = 8.5   # m/day horizontal hydraulic conductivity in x, y, z \n",
        "K_mid_z = 0.1    #assign vertical hydraulic conductivity (along z axis)\n",
        "n = 0.1        #assign porosity\n",
        "Ss = 0.0001      #assign storage coefficient\n",
        "Sy = 0.1        #assign specific yield\n",
        "uncnf = 1       #0=confined, >0 = unconfined\n",
        "\n",
        "## Boundary condition\n",
        "h_right = 70  #m\n",
        "\n",
        "# Recharge in the leftmost columns (zero elsewhere)\n",
        "recharge = 4e-5 #m/day"
      ]
    },
    {
      "cell_type": "markdown",
      "metadata": {},
      "source": [
        "### NTNA 3. Setup layer properties and create dis object"
      ]
    },
    {
      "cell_type": "code",
      "execution_count": 3,
      "metadata": {},
      "outputs": [],
      "source": [
        "## Make some changes to the parameters\n",
        "#nlay_3lay=3  #two layers instead of 1\n",
        "botm = np.zeros((nlay,nrow,ncol)) # initialize array of zeros for bottom elevation for each model cell (dim: nlay,nrow,ncol)\n",
        "botm[0,:,:] = 45   # bottom elevation of top layer (0) is 45 m \n",
        "botm[1,:,:] = 40   # bottom elevation of middle layer (1) is 40 m\n",
        "\n",
        "## Make arrays for the K values\n",
        "Kz = np.zeros((nlay,nrow,ncol))     # define an array of zeros the size of the model grid (nlay, nrow, ncol)\n",
        "Kz[:,:,:] = K_xyz                   # assign the original value to the entire array\n",
        "Kz[1,20:-1,:] = K_mid_z             # assign middle layer Kz in right half of domain\n",
        "\n",
        "Kh = np.zeros((nlay,nrow,ncol))     # define an array of zeros the size of the model grid (nlay, nrow, ncol)\n",
        "Kh[:,:,:] = K_xyz                  # assign the original value to the entire array\n",
        "\n",
        "#Create dis object\n",
        "dis = flopy.modflow.ModflowDis(model=m1, nlay=nlay, nrow=nrow, ncol=ncol, \n",
        "                               delr=dx, delc=dy, top=ztop, botm=botm, \n",
        "                               itmuni = 4, lenuni = 2, \n",
        "                               nper=nper, steady=steady)\n"
      ]
    },
    {
      "cell_type": "markdown",
      "metadata": {},
      "source": [
        "### NTNA 4. Setup boundary conditions and packages other than stream"
      ]
    },
    {
      "cell_type": "code",
      "execution_count": 4,
      "metadata": {},
      "outputs": [],
      "source": [
        "# Boundary and initial conditions - bas\n",
        "ibound = np.ones((nlay, nrow, ncol), dtype=np.int32)     #array of ones to make every cell active\n",
        "ibound[:, :, -1] = -1   #right boundary of constant head\n",
        "ibound[:,:,0] = 0       #left boundary of no flow\n",
        "ibound[:,0,:] = 0       #top boundary of no flow\n",
        "ibound[:,-1,:] = 0      #bottom boundary of no flow\n",
        "\n",
        "#Impermeable bedrock in upper and lower left of each layer\n",
        "for i in range(0,9):                     #top layer bedrock\n",
        "    if i <= 5:\n",
        "        ibound[0, i, 0:5-i] = 0\n",
        "        ibound[0, -1-i, 0:5-i] = 0\n",
        "    elif 6 <= i <= 7:                    #middle layer bedrock\n",
        "        for j in range(0,7):\n",
        "            ibound[1, j, 0:7-j] = 0\n",
        "            ibound[1, -1-j, 0:7-j] = 0\n",
        "    else:\n",
        "        for k in range(0,9):             #bottom layer bedrock\n",
        "            ibound[2, k, 0:9-k] = 0\n",
        "            ibound[2, -1-k, 0:9-k] = 0\n",
        "\n",
        "#setup initial heads as 1 everywhere except on the boundaries\n",
        "H_init = np.ones((nlay, nrow, ncol), dtype=np.float32)  #float array (i.e. decimal), sets all heads to 1.0\n",
        "H_init[:, :, :] = h_right    #initialize the entire domain to the right head value\n",
        "\n",
        "bas = flopy.modflow.ModflowBas(m1, ibound=ibound, strt=H_init)\n",
        "\n",
        "#Numerical solver\n",
        "pcg = flopy.modflow.ModflowPcg(model=m1)\n",
        "\n",
        "#Layer properties - lpf\n",
        "lpf = flopy.modflow.ModflowLpf(m1, laytyp=uncnf, hk=Kh, \n",
        "                               vka=Kz, ss=Ss,\n",
        "                               sy=Sy,storagecoefficient=True, ipakcb=53) \n",
        "\n",
        "#Recharge - background\n",
        "rech_zone = np.zeros((1,nrow,ncol))               #define an array of zeros of dim (nrow,ncol)\n",
        "rech_zone[:,:,0:15] = recharge                   #recharge only occurs in 15 leftmost columns\n",
        "\n",
        "#Recharge object\n",
        "rch = flopy.modflow.mfrch.ModflowRch(model=m1, rech=rech_zone, ipakcb=53)     #create rch object\n",
        "\n",
        "#Output control object \n",
        "spd = {(0,0):['print head', 'print budget', 'save head', 'save budget']} #create a dictionary for stress period data, where key (0,0) is associated with value ['print...'] \n",
        "oc = flopy.modflow.ModflowOc(model=m1, stress_period_data=spd, compact=True)\n",
        "\n",
        "ET_zone = np.zeros((nrow,ncol))     # create an array of zeroes the size of the model grid\n",
        "ET_zone[:,25:-1] = 1e-5             # ET only on right half of domain\n",
        "ET_zone[21:28,:] = 5e-4             # riparian zone ET\n",
        "extinction_depth = 1                #extinction depth is the depth where if our water table is below that, our ET will be ZERO\n",
        "evt = flopy.modflow.mfevt.ModflowEvt(model=m1, surf=ztop, evtr=ET_zone, exdp=extinction_depth, ipakcb=53) #ipakcb applies it to water balance"
      ]
    },
    {
      "cell_type": "markdown",
      "metadata": {},
      "source": [
        "### NTNA 5. Setup stream package"
      ]
    },
    {
      "cell_type": "code",
      "execution_count": 5,
      "metadata": {},
      "outputs": [],
      "source": [
        "#Setup the stream characteristics\n",
        "stage_above_datum = 0.5  #given: .5 m above bed\n",
        "k_strbott = 10           #river bottom hydraulic conductivity in l/t\n",
        "sed_thick = 1            #thickness of riverbed sediment \n",
        "\n",
        "nseg = 3                 # number of segments\n",
        "ntrib=2                  # two tributaries (for return flow & upstream section)\n",
        "return_loc = 25          #return flow to the river\n",
        "\n",
        "slope = 0.001            #slope of streambed (m/m)\n",
        "rough = 0.04             #roughness of streambed\n",
        "width = 1.               #width of channel (m)\n",
        "Flow_into_the_1st_reach = 0 # m^3/day\n",
        "Qreturn = 0              #NTNA scenario does not return water to stream\n",
        "\n",
        "#Define the stream bottom relative to topography (1 m below surface)\n",
        "for y in range(ncol):\n",
        "    str_bott = ztop[24,y]-2         #stream bottom is located in row 25 across all columns and below sediment\n",
        "    str_top = str_bott+sed_thick \n",
        "\n",
        "set_icalc = 0    #stage not calculated based on flow  (1 otherwise)\n",
        "str_spd1 = []    #a list of all cells for river in stress period 1\n",
        "const = 86400.0  #given multiplication constant for m3/day \n",
        "istcb2 = 53      #save outflows to cbb file\n",
        "\n",
        "#Defining stream reaches\n",
        "nreach =  50                                    # one reach for every cell across domain\n",
        "str_rows = 25*np.ones((nreach),dtype=np.int32)  # integer array of row numbers for each reach \n",
        "str_cols = np.arange(0,nreach)                  # integer array of col numbers for each reach \n",
        "\n",
        "#Setup the inflows for the reaches\n",
        "reach_flow = np.zeros((nreach),dtype=np.int32)  # create holding array of zeros\n",
        "reach_flow[return_loc] = Qreturn                # assign return flow value to return flow location\n",
        "reach_flow[return_loc+1] = -1                   # inflow to seg3 = sum of all previous segments\n",
        "\n",
        "#Each reach is part of a segment 1,2,or 3\n",
        "segments = np.ones((nreach),dtype=np.int32)    # array of ones the length of the entire stream\n",
        "segments[return_loc] = 2                       # the location of town return flow corresponds to segment 2\n",
        "segments[return_loc+1:nreach] = 3              # everything below return_loc is part of segment 3\n",
        "\n",
        "#Label reaches 1 through 'n' in each segment \n",
        "reaches = np.arange(1,nreach+1)                # an array counting from 1 to 50 (entire length of stream)\n",
        "reaches[return_loc] = 1                        # the return location is a single cell - single reach - numbered 1\n",
        "reaches[return_loc+1:nreach] = np.arange(1,nreach-(return_loc+1)+1)  # begin counting from 1 again after return_loc\n",
        "\n",
        "# Stream Elevation\n",
        "ztop = np.genfromtxt('BASE_top_elev.csv', delimiter=',') # top elevation of top layer (import from csv file) (dim: nrow, ncol)\n",
        "surf_elev = np.zeros((nreach))                 # create array of zeros the length of the stream\n",
        "\n",
        "# loop over the stream reaches and pull the land surface elevation for the location of each stream cell\n",
        "for i in np.arange(nreach): \n",
        "      surf_elev[i] = ztop[str_rows[i],str_cols[i]]\n",
        "\n",
        "Stop = surf_elev -1                            # elevation of the top of the streambed (1 m below land surface) (m)\n",
        "Sbot = Stop - sed_thick                        # elevation of the bottom of the streambed (m)\n",
        "stage_elev = Stop + stage_above_datum          # elevation of the water surface in the stream (m)\n",
        "\n",
        "\n",
        "#Setup the stress period dictionary\n",
        "str_info = np.zeros((nreach,13))               # create array of zeros for reaches, each reach requires 13 input values\n",
        "\n",
        "# Loop over the reaches and setup the data\n",
        "for r in np.arange(nreach): \n",
        "     str_info[r,:] = [0, str_rows[r], str_cols[r], segments[r], reaches[r], reach_flow[r], stage_elev[r], k_strbott, Sbot[r], Stop[r], width,  slope, rough]\n",
        "str_spd = {0: str_info}                        # save the stream info in a stress period dictionary\n",
        "\n",
        "\n",
        "#Setup the segments dictionary\n",
        "#Each segment has an array of 10 zeros \n",
        "#First two vals of segment three are the upstream segment numbers contributing to segment 3\n",
        "#nseg = 3\n",
        "icalc = 1\n",
        "seg_info = [[0, 0, 0, 0, 0, 0, 0, 0, 0, 0, 0], [0, 0, 0, 0, 0, 0, 0, 0, 0, 0, 0], [1, 2, 0, 0, 0, 0, 0, 0, 0, 0, 1]]\n",
        "str_segd = {0: seg_info}  #save the stream info in a segment dictionary\n",
        "\n",
        "# Setup the mudflow package call\n",
        "strm = flopy.modflow.mfstr.ModflowStr(m1, mxacts=nreach, nss=nseg, ntrib=ntrib, ndiv=0,icalc=icalc, const=const, ipakcb=53, istcb2=53, dtype=None, stress_period_data=str_spd, segment_data=str_segd, extension='str')\n"
      ]
    },
    {
      "cell_type": "markdown",
      "metadata": {},
      "source": [
        "### NTNA 6. Plot model grid and boundary conditions"
      ]
    },
    {
      "cell_type": "code",
      "execution_count": 6,
      "metadata": {},
      "outputs": [
        {
          "data": {
            "image/png": "[encoded data removed]",
            "text/plain": [
              "<Figure size 432x288 with 1 Axes>"
            ]
          },
          "metadata": {
            "needs_background": "light"
          },
          "output_type": "display_data"
        }
      ],
      "source": [
        "#Plot model grid with stream\n",
        "modelmap = flopy.plot.PlotMapView(model=m1, layer=0)\n",
        "grid=modelmap.plot_grid()\n",
        "ib = modelmap.plot_ibound()\n",
        "plt.xlabel('Lx (m)', fontsize=14)\n",
        "plt.ylabel('Ly (m)', fontsize=14)\n",
        "plt.title('NTNA Top Layer', fontsize=15, fontweight='bold')\n",
        "str_m = modelmap.plot_bc('STR')   #plot stream\n",
        "#wel_m = modelmap.plot_bc('WEL')   #plot well\n",
        "plt.legend(handles=[#mp.patches.Patch(color='red', label='well', ec='red'),\n",
        "                   mp.patches.Patch(color='purple',label='Stream', ec='black'),\n",
        "                   mp.patches.Patch(color='white',label='Active Cell',ec='black'),\n",
        "                   mp.patches.Patch(color='black',label='Inactive Cell',ec='black')],\n",
        "                   bbox_to_anchor=(1.5,1.0))\n",
        "plt.show(modelmap)"
      ]
    },
    {
      "cell_type": "markdown",
      "metadata": {},
      "source": [
        "### NTNA 7. Write MODFLOW input files and run model"
      ]
    },
    {
      "cell_type": "code",
      "execution_count": 7,
      "metadata": {},
      "outputs": [
        {
          "name": "stdout",
          "output_type": "stream",
          "text": [
            "FloPy is using the following executable to run the model: C:/Users/tento/Documents/GW_Modeling/homework-akahler03/Working/mf2005.exe\n",
            "\n",
            "                                  MODFLOW-2005     \n",
            "    U.S. GEOLOGICAL SURVEY MODULAR FINITE-DIFFERENCE GROUND-WATER FLOW MODEL\n",
            "                             Version 1.11.00 8/8/2013                        \n",
            "\n",
            " Using NAME file: NTNA.nam \n",
            " Run start date and time (yyyy/mm/dd hh:mm:ss): 2022/04/21 20:19:15\n",
            "\n",
            " Solving:  Stress period:     1    Time step:     1    Ground-Water Flow Eqn.\n",
            " Run end date and time (yyyy/mm/dd hh:mm:ss): 2022/04/21 20:19:15\n",
            " Elapsed run time:  0.142 Seconds\n",
            "\n",
            "  Normal termination of simulation\n"
          ]
        }
      ],
      "source": [
        "m1.write_input()    \n",
        "\n",
        "success, mfoutput = m1.run_model(pause=False, report=True)\n",
        "if not success:\n",
        "    raise Exception('MODFLOW did not terminate normally.')"
      ]
    },
    {
      "cell_type": "markdown",
      "metadata": {},
      "source": [
        "### NTNA Attempted cross-sectional head distribution"
      ]
    },
    {
      "cell_type": "code",
      "execution_count": 9,
      "metadata": {},
      "outputs": [
        {
          "data": {
            "image/png": "[encoded data removed]",
            "text/plain": [
              "<Figure size 1080x360 with 2 Axes>"
            ]
          },
          "metadata": {
            "needs_background": "light"
          },
          "output_type": "display_data"
        }
      ],
      "source": [
        "#Plot cross sectional heads\n",
        "headobj = bf.HeadFile(modelname1+'.hds')    #reads the binary head file\n",
        "times = headobj.get_times()                 #returns a list of timesteps\n",
        "head = headobj.get_data(totim=times[-1])    #returns a numpy array of heads for specified time (last timestep)\n",
        "\n",
        "fig = plt.figure(figsize=(15, 5))\n",
        "ax = fig.add_subplot(1, 1, 1)\n",
        "\n",
        "xsect = flopy.plot.PlotCrossSection(model=m1, line={'row': 24}, extent = (0, 50000,0,120)) #note use the key 'column' if you want to plot a column instaed\n",
        "pc = xsect.plot_array(head, masked_values=[-999.99], head=head, alpha=0.5)    #set mask to -999.99 for nan error\n",
        "patches = xsect.plot_ibound(head=head)\n",
        "patches = xsect.plot_ibound(color_noflow='red', color_ch='blue')\n",
        "#patches = xsect.plot_bc('WEL', color='red')\n",
        "linecollection = xsect.plot_grid(color='black', lw=0.5)\n",
        "t = ax.set_title('NTNA Row 25 Cross-Section')\n",
        "cb = plt.colorbar(pc, shrink=0.75)\n",
        "\n",
        "#Overlay the head in a layer of the model\n",
        "wt = xsect.plot_surface(head[0,:,:], masked_values=[-999.99], color='blue', lw=1)"
      ]
    },
    {
      "cell_type": "markdown",
      "metadata": {},
      "source": [
        "### NTNA Attempted heads and flow vectors map"
      ]
    },
    {
      "cell_type": "code",
      "execution_count": null,
      "metadata": {},
      "outputs": [],
      "source": [
        "# Plotting heads and flow arrows\n",
        "plt.figure() \n",
        "modelmap = flopy.plot.PlotMapView(model=m1, layer=0) #use modelmap to attach plot to model\n",
        "#grid = modelmap.plot_grid() #plot model grid\n",
        "contour_levels = np.linspace(head[0].min(),head[0].max(),15) #set contour levels for contouring head\n",
        "head_contours = modelmap.contour_array(head, levels=contour_levels) #create head contours\n",
        "flows = modelmap.plot_discharge(frf[0], fff[0], head=head) #create discharge arrows\n",
        "#display parameters\n",
        "plt.xlabel('Lx (m)',fontsize = 14)\n",
        "plt.ylabel('Ly (m)',fontsize = 14)\n",
        "plt.title('NTNA', fontsize = 15, fontweight = 'bold')\n",
        "plt.colorbar(head_contours, aspect=5)\n",
        "plt.show(modelmap)"
      ]
    },
    {
      "cell_type": "markdown",
      "metadata": {},
      "source": [
        "## Start over for Yes Town No Ag (YTNA)"
      ]
    },
    {
      "cell_type": "code",
      "execution_count": null,
      "metadata": {},
      "outputs": [],
      "source": []
    },
    {
      "cell_type": "code",
      "execution_count": null,
      "metadata": {},
      "outputs": [],
      "source": []
    },
    {
      "cell_type": "code",
      "execution_count": null,
      "metadata": {},
      "outputs": [],
      "source": [
        "\n"
      ]
    },
    {
      "cell_type": "code",
      "execution_count": null,
      "metadata": {},
      "outputs": [],
      "source": []
    },
    {
      "cell_type": "code",
      "execution_count": null,
      "metadata": {},
      "outputs": [],
      "source": []
    }
  ],
  "metadata": {
    "colab": {
      "name": "HW10_model_Boyd.ipynb",
      "provenance": []
    },
    "kernelspec": {
      "display_name": "Python 3",
      "language": "python",
      "name": "python3"
    },
    "language_info": {
      "codemirror_mode": {
        "name": "ipython",
        "version": 3
      },
      "file_extension": ".py",
      "mimetype": "text/x-python",
      "name": "python",
      "nbconvert_exporter": "python",
      "pygments_lexer": "ipython3",
      "version": "3.8.12"
    }
  },
  "nbformat": 4,
  "nbformat_minor": 0
}
