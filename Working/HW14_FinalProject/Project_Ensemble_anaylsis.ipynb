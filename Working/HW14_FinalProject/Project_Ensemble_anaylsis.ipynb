{
 "cells": [
  {
   "cell_type": "markdown",
   "metadata": {},
   "source": [
    "# Ensemble Analysis\n",
    "\n",
    "This notebook reads in and formats outputs from ensemble simulations so that you can evaluate and plot"
   ]
  },
  {
   "cell_type": "markdown",
   "metadata": {},
   "source": [
    "### Import packages"
   ]
  },
  {
   "cell_type": "code",
   "execution_count": 1,
   "metadata": {},
   "outputs": [],
   "source": [
    "#import packages\n",
    "import flopy\n",
    "import numpy as np\n",
    "import matplotlib.pyplot as plt\n",
    "import matplotlib as mp\n",
    "import pandas as pd\n",
    "import numpy as np\n",
    "import os\n",
    "\n",
    "\n",
    "#additional analysis tools\n",
    "import flopy.utils.binaryfile as bf\n",
    "from mpl_toolkits.mplot3d import Axes3D\n",
    "from matplotlib import cm\n",
    "from matplotlib.ticker import LinearLocator, FormatStrFormatter\n",
    "\n",
    "\n",
    "np.set_printoptions(threshold=np.inf)\n",
    "\n",
    "#jupyter specific--included to show plots in notebook\n",
    "%matplotlib inline "
   ]
  },
  {
   "cell_type": "markdown",
   "metadata": {},
   "source": [
    "# Setup static variables"
   ]
  },
  {
   "cell_type": "code",
   "execution_count": 2,
   "metadata": {},
   "outputs": [
    {
     "name": "stdout",
     "output_type": "stream",
     "text": [
      "10 Ensembles to evaluate\n"
     ]
    }
   ],
   "source": [
    "nrow = 50 #number of rows\n",
    "ncol = 50 #number of columns\n",
    "nlay = 3  #number of layers\n",
    "dx= 1000 #width of grid cells in x direction \n",
    "dy= 1000 #width of grid cells in y direction \n",
    "Lx = ncol*dx  #width of domain in x\n",
    "Ly = nrow*dy #width of domain in y\n",
    "\n",
    "ensembles = [[1,1,1,1,3,3,1],\n",
    "[1,2,2,1,1,2,2], \n",
    "[2,1,3,3,2,1,3],\n",
    "[2,2,2,2,3,3,3],\n",
    "[2,1,3,3,1,2,2],\n",
    "[2,2,3,3,1,1,2],\n",
    "[2,1,1,2,2,2,3],\n",
    "[2,2,3,3,2,1,1],\n",
    "[2,1,2,3,2,2,1],\n",
    "[3,3,3,3,3,3,3]]\n",
    "\n",
    "n_ens = len(ensembles)\n",
    "print(n_ens, 'Ensembles to evaluate')\n"
   ]
  },
  {
   "cell_type": "markdown",
   "metadata": {},
   "source": [
    "## Read in the heads and create timeseries at points"
   ]
  },
  {
   "cell_type": "code",
   "execution_count": 3,
   "metadata": {},
   "outputs": [],
   "source": [
    "#setup well locations and observation points\n",
    "well_loc = (2,21, 38) #town well \n",
    "welli_loc = (2,12, 14) #ag irrigation well \n",
    "#observation well\n",
    "#wello_loc = (2, 15, 15)  # ag observation well we want this in top layer to observe the water table depth\n",
    "\n",
    "#setup timeseries\n",
    "head_ts = []  # timeseries of head at town well\n",
    "ag_head_ts = []  # timeseries of head at agg well\n",
    "#mw1_head_ts = []  # timeseries of head at observation well\n",
    "\n",
    "# Loop through the ensembles and read the data\n",
    "root_name = 'ensemble_' #root of the run names\n",
    "for i in range(len(ensembles)):\n",
    "    name = root_name  #Create the file name from list \n",
    "    for k in range(len(ensembles[i])):\n",
    "        string = str(ensembles[i][k])\n",
    "        name = name + string   \n",
    "\n",
    "    #read in the head and water budget files\n",
    "    headobj = flopy.utils.binaryfile.HeadFile(name+'.hds')\n",
    "   \n",
    "\n",
    "   ## CHANGED THESE TO NP.MEAN()\n",
    "    #Extract out time series of heads at points of interest\n",
    "    #head_ts.append(np.mean(headobj.get_ts(well_loc)))        #town well\n",
    "    #ag_head_ts.append(np.mean(headobj.get_ts(welli_loc)))    #ag well\n",
    "    head_ts.append(headobj.get_ts(well_loc))        #town well\n",
    "    ag_head_ts.append(headobj.get_ts(welli_loc))    #ag well\n",
    "\n",
    "    times = headobj.get_times()\n",
    "    #print(budgobj.get_unique_record_names())"
   ]
  },
  {
   "cell_type": "markdown",
   "metadata": {},
   "source": [
    "## Store complete gridded outputs as arrays"
   ]
  },
  {
   "cell_type": "code",
   "execution_count": 4,
   "metadata": {},
   "outputs": [],
   "source": [
    "#setup arrays to store the values\n",
    "head_array = np.zeros((len(ensembles), len(times), nlay, ncol, nrow))  #4D array with shape time, layer, col, row for each ensemble\n",
    "frf_array = np.zeros((len(ensembles), len(times), nlay, ncol, nrow))\n",
    "fff_array = np.zeros((len(ensembles), len(times), nlay, ncol, nrow))\n",
    "recharge_array = np.zeros((len(ensembles), len(times), 1, ncol, nrow))\n",
    "et_array = np.zeros((len(ensembles), len(times), 1, ncol, nrow))\n",
    "stor_array = np.zeros((len(ensembles), len(times), 1, ncol, nrow))\n",
    "\n",
    "# Loop through the ensembles and read the data\n",
    "root_name = 'ensemble_' #root of the run names\n",
    "for i in range(len(ensembles)):\n",
    "    name = root_name  #Create the file name from list \n",
    "    for k in range(len(ensembles[i])):\n",
    "        string = str(ensembles[i][k])\n",
    "        name = name + string   \n",
    "\n",
    "    #read in the head and water budget files\n",
    "    headobj = flopy.utils.binaryfile.HeadFile(name+'.hds')\n",
    "    budgobj = flopy.utils.binaryfile.CellBudgetFile(name+'.cbc')   \n",
    "\n",
    "    rowcounter = -1\n",
    "    for t in times:\n",
    "        rowcounter += 1\n",
    "        head_array[i, rowcounter,:, :, :] = headobj.get_data(totim=t)\n",
    "        \n",
    "        tempfrf = np.squeeze(budgobj.get_data(text='flow right face', totim=t))\n",
    "        frf_array[i, rowcounter,:, :, :] = tempfrf\n",
    "        \n",
    "        tempfff = np.squeeze(budgobj.get_data(text='FLOW FRONT FACE', totim=t))\n",
    "        fff_array[i, rowcounter,:, :, :] = tempfff\n",
    "\n",
    "        temprch = np.squeeze(budgobj.get_data(text='RECHARGE', totim=t))\n",
    "        recharge_array[i, rowcounter, :, :, :] = temprch[1]\n",
    "\n",
    "        tempet = np.squeeze(budgobj.get_data(text='ET', totim=t))\n",
    "        et_array[i, rowcounter, :, :, :] = tempet[1]\n"
   ]
  },
  {
   "cell_type": "markdown",
   "metadata": {},
   "source": [
    "## Read in the river leakage"
   ]
  },
  {
   "cell_type": "code",
   "execution_count": 5,
   "metadata": {},
   "outputs": [],
   "source": [
    "#setup arrays to store the values\n",
    "leakage_array = np.zeros((len(ensembles), len(times), 49))\n",
    "\n",
    "# Loop through the ensembles and read the data\n",
    "root_name = 'ensemble_' #root of the run names\n",
    "for i in range(len(ensembles)):\n",
    "    name = root_name  #Create the file name from list \n",
    "    for k in range(len(ensembles[i])):\n",
    "        string = str(ensembles[i][k])\n",
    "        name = name + string   \n",
    "\n",
    "    #water budget files\n",
    "    budgobj = flopy.utils.binaryfile.CellBudgetFile(name+'.cbc')   \n",
    "\n",
    "    rowcounter = -1\n",
    "    for t in times:\n",
    "        rowcounter += 1\n",
    "\n",
    "        templeak = budgobj.get_data(text='RIVER LEAKAGE', totim=t)\n",
    "        leakage_array[i, rowcounter,:] = templeak[0].q"
   ]
  },
  {
   "cell_type": "markdown",
   "metadata": {},
   "source": [
    "## Sum the leakage along entire river length for each model in the ensemble individually"
   ]
  },
  {
   "cell_type": "code",
   "execution_count": 59,
   "metadata": {},
   "outputs": [
    {
     "name": "stdout",
     "output_type": "stream",
     "text": [
      "6000.0 10404.514508247375 30083.16498851776 141517.88342285156 24130.394740104675 31302.573694229126 44279.91935348511 14405.86172914505 14888.934244632721 334712.64052963257\n"
     ]
    }
   ],
   "source": [
    "#print(np.shape(leakage_array))\n",
    "first = np.sum(leakage_array[0][0][:]) #leakage for first model in the ensemble\n",
    "second =np.sum(leakage_array[1][0][:])\n",
    "third =  np.sum(leakage_array[2][0][:])\n",
    "fourth= np.sum(leakage_array[3][0][:])\n",
    "fifth= np.sum(leakage_array[4][0][:])\n",
    "sixth= np.sum(leakage_array[5][0][:])\n",
    "seventh= np.sum(leakage_array[6][0][:])\n",
    "eighth= np.sum(leakage_array[7][0][:])\n",
    "ninth= np.sum(leakage_array[8][0][:])\n",
    "tenth= np.sum(leakage_array[9][0][:])\n",
    "print(first, second,third, fourth, fifth, sixth, seventh, eighth, ninth, tenth)\n",
    "leakage_list = [first, second,third, fourth, fifth, sixth, seventh, eighth, ninth, tenth]"
   ]
  },
  {
   "cell_type": "code",
   "execution_count": 101,
   "metadata": {},
   "outputs": [
    {
     "data": {
      "image/png": "[encoded data removed]",
      "text/plain": [
       "<Figure size 432x288 with 1 Axes>"
      ]
     },
     "metadata": {
      "needs_background": "light"
     },
     "output_type": "display_data"
    }
   ],
   "source": [
    "leakage_list = [first, second,third, fourth, fifth, sixth, seventh, eighth, ninth, tenth]\n",
    "plt.plot(leakage_list[0],'.', color = 'black', label = 'ens')\n",
    "plt.plot(leakage_list[1],'.', color = 'blue')\n",
    "plt.plot(third,'.', color = 'red')\n",
    "plt.plot(fourth,'.', color = 'orange')\n",
    "plt.plot(fifth,'.', color = 'yellow')\n",
    "plt.plot(sixth,'.', color = 'green')\n",
    "plt.plot(seventh,'.', color = 'brown')\n",
    "plt.plot(eighth,'.', color = 'purple')\n",
    "plt.plot(ninth,'.', color = 'maroon')\n",
    "plt.plot(tenth,'.', color = 'violet')\n",
    "plt.legend()\n",
    "plt.show()"
   ]
  },
  {
   "cell_type": "markdown",
   "metadata": {},
   "source": [
    "### Head value for each model at the town well"
   ]
  },
  {
   "cell_type": "code",
   "execution_count": 81,
   "metadata": {},
   "outputs": [
    {
     "name": "stdout",
     "output_type": "stream",
     "text": [
      "(10, 36, 2)\n",
      "first model 65.47427\n",
      "second model 73.106834\n",
      "third model 74.24825\n",
      "65.47427 73.106834 74.24825 74.47826 74.2824 75.21399 74.069305 74.19402 73.34648 75.39993\n"
     ]
    }
   ],
   "source": [
    "print(np.shape(head_ts))\n",
    "#np.shape(head_ts[0][0][0])\n",
    "print('first model',head_ts[0][0][1])\n",
    "print('second model',head_ts[1][0][1])\n",
    "print('third model',head_ts[2][0][1])\n",
    "#head1 = head_ts[0][0][1]\n",
    "#head2= head_ts[1][0][1]\n",
    "#head3= head_ts[2][0][1]\n",
    "#head4= head_ts[3][0][1]\n",
    "#head5= head_ts[4][0][1]\n",
    "#head6= head_ts[5][0][1]\n",
    "#head7= head_ts[6][0][1]\n",
    "#head8= head_ts[7][0][1]\n",
    "#head9= head_ts[8][0][1]\n",
    "#head10= head_ts[9][0][1]\n",
    "#print(head1, head2, head3, head4, head5, head6, head7, head8, head9, head10)\n",
    "town_list = [[head1, head2, head3, head4, head5, head6, head7, head8, head9, head10]]\n"
   ]
  },
  {
   "cell_type": "markdown",
   "metadata": {},
   "source": [
    "### Head for each model at the Ag well"
   ]
  },
  {
   "cell_type": "code",
   "execution_count": 89,
   "metadata": {},
   "outputs": [
    {
     "data": {
      "text/plain": [
       "[<matplotlib.lines.Line2D at 0x2001a97f7c0>]"
      ]
     },
     "execution_count": 89,
     "metadata": {},
     "output_type": "execute_result"
    },
    {
     "data": {
      "image/png": "[encoded data removed]",
      "text/plain": [
       "<Figure size 432x288 with 1 Axes>"
      ]
     },
     "metadata": {
      "needs_background": "light"
     },
     "output_type": "display_data"
    }
   ],
   "source": [
    "#ag_head1 = ag_head_ts[0][0][1]\n",
    "#ag_head2= ag_head_ts[1][0][1]\n",
    "#ag_head3= ag_head_ts[2][0][1]\n",
    "#ag_head4= ag_head_ts[3][0][1]\n",
    "#ag_head5= ag_head_ts[4][0][1]\n",
    "#ag_head6= ag_head_ts[5][0][1]\n",
    "#ag_head7= ag_head_ts[6][0][1]\n",
    "#ag_head8= ag_head_ts[7][0][1]\n",
    "#ag_head9= ag_head_ts[8][0][1]\n",
    "#ag_head10= ag_head_ts[9][0][1]\n",
    "#print(ag_head1, ag_head2, ag_head3, ag_head4, ag_head5, ag_head6, ag_head7, ag_head8, ag_head9,ag_head10)\n",
    "ag_list = [ag_head1, ag_head2, ag_head3, ag_head4, ag_head5, ag_head6, ag_head7, ag_head8, ag_head9,ag_head10]\n",
    "plt.plot(ag_list,'.')"
   ]
  },
  {
   "cell_type": "markdown",
   "metadata": {},
   "source": [
    "# Plot all ensembles together"
   ]
  },
  {
   "cell_type": "code",
   "execution_count": 43,
   "metadata": {},
   "outputs": [
    {
     "data": {
      "image/png": "[encoded data removed]",
      "text/plain": [
       "<Figure size 432x288 with 1 Axes>"
      ]
     },
     "metadata": {
      "needs_background": "light"
     },
     "output_type": "display_data"
    }
   ],
   "source": [
    "#Head at Aquaseca well \n",
    "plt.subplot(1, 1, 1)\n",
    "plt.title(\"Head at Aquaseca Well\",fontweight='bold')\n",
    "plt.xlabel('time (years)',fontweight='bold')\n",
    "plt.ylabel('head (m)',fontweight='bold')\n",
    "# plt.ylim(75.2,75.8)\n",
    "for j in range(len(ensembles)):\n",
    "    label = 'Ensemble ' + str(j)\n",
    "    plt.plot(head_ts[j][:, 0]/360, head_ts[j][:, 1],'.', label=label) #plot the time series with points at each record\n",
    "plt.legend(bbox_to_anchor=(1.2, 0.5), loc='center', ncol=1)\n",
    "plt.savefig(\"Head_Aqua_ensem.png\",dpi=600)\n",
    "plt.show()\n"
   ]
  },
  {
   "cell_type": "code",
   "execution_count": null,
   "metadata": {},
   "outputs": [],
   "source": []
  },
  {
   "cell_type": "markdown",
   "metadata": {},
   "source": [
    "### Same as the plot above but trying to have only one datapoint per model"
   ]
  },
  {
   "cell_type": "code",
   "execution_count": 26,
   "metadata": {},
   "outputs": [
    {
     "ename": "ValueError",
     "evalue": "x and y must have same first dimension, but have shapes (2,) and (36,)",
     "output_type": "error",
     "traceback": [
      "\u001b[1;31m---------------------------------------------------------------------------\u001b[0m",
      "\u001b[1;31mValueError\u001b[0m                                Traceback (most recent call last)",
      "\u001b[1;32mc:\\Users\\tento\\Documents\\GW_Modeling\\homework-akahler03\\Working\\HW14_FinalProject\\Project_Ensemble_anaylsis.ipynb Cell 16'\u001b[0m in \u001b[0;36m<module>\u001b[1;34m\u001b[0m\n\u001b[0;32m      <a href='vscode-notebook-cell:/c%3A/Users/tento/Documents/GW_Modeling/homework-akahler03/Working/HW14_FinalProject/Project_Ensemble_anaylsis.ipynb#ch0000014?line=6'>7</a>\u001b[0m \u001b[39mfor\u001b[39;00m j \u001b[39min\u001b[39;00m \u001b[39mrange\u001b[39m(\u001b[39mlen\u001b[39m(ensembles)):\n\u001b[0;32m      <a href='vscode-notebook-cell:/c%3A/Users/tento/Documents/GW_Modeling/homework-akahler03/Working/HW14_FinalProject/Project_Ensemble_anaylsis.ipynb#ch0000014?line=7'>8</a>\u001b[0m     label \u001b[39m=\u001b[39m \u001b[39m'\u001b[39m\u001b[39mEnsemble \u001b[39m\u001b[39m'\u001b[39m \u001b[39m+\u001b[39m \u001b[39mstr\u001b[39m(j)\n\u001b[1;32m----> <a href='vscode-notebook-cell:/c%3A/Users/tento/Documents/GW_Modeling/homework-akahler03/Working/HW14_FinalProject/Project_Ensemble_anaylsis.ipynb#ch0000014?line=8'>9</a>\u001b[0m     plt\u001b[39m.\u001b[39;49mplot(head_ts[\u001b[39m0\u001b[39;49m][\u001b[39m0\u001b[39;49m], head_ts[j][:, \u001b[39m1\u001b[39;49m], label\u001b[39m=\u001b[39;49mlabel) \u001b[39m#plot the time series with points at each record\u001b[39;00m\n\u001b[0;32m     <a href='vscode-notebook-cell:/c%3A/Users/tento/Documents/GW_Modeling/homework-akahler03/Working/HW14_FinalProject/Project_Ensemble_anaylsis.ipynb#ch0000014?line=9'>10</a>\u001b[0m plt\u001b[39m.\u001b[39mlegend(bbox_to_anchor\u001b[39m=\u001b[39m(\u001b[39m1.2\u001b[39m, \u001b[39m0.5\u001b[39m), loc\u001b[39m=\u001b[39m\u001b[39m'\u001b[39m\u001b[39mcenter\u001b[39m\u001b[39m'\u001b[39m, ncol\u001b[39m=\u001b[39m\u001b[39m1\u001b[39m)\n\u001b[0;32m     <a href='vscode-notebook-cell:/c%3A/Users/tento/Documents/GW_Modeling/homework-akahler03/Working/HW14_FinalProject/Project_Ensemble_anaylsis.ipynb#ch0000014?line=10'>11</a>\u001b[0m plt\u001b[39m.\u001b[39msavefig(\u001b[39m\"\u001b[39m\u001b[39mHead_Aqua_ensem.png\u001b[39m\u001b[39m\"\u001b[39m,dpi\u001b[39m=\u001b[39m\u001b[39m600\u001b[39m)\n",
      "File \u001b[1;32m~\\Miniconda3\\envs\\gwmod\\lib\\site-packages\\matplotlib\\pyplot.py:2757\u001b[0m, in \u001b[0;36mplot\u001b[1;34m(scalex, scaley, data, *args, **kwargs)\u001b[0m\n\u001b[0;32m   <a href='file:///c%3A/Users/tento/Miniconda3/envs/gwmod/lib/site-packages/matplotlib/pyplot.py?line=2754'>2755</a>\u001b[0m \u001b[39m@_copy_docstring_and_deprecators\u001b[39m(Axes\u001b[39m.\u001b[39mplot)\n\u001b[0;32m   <a href='file:///c%3A/Users/tento/Miniconda3/envs/gwmod/lib/site-packages/matplotlib/pyplot.py?line=2755'>2756</a>\u001b[0m \u001b[39mdef\u001b[39;00m \u001b[39mplot\u001b[39m(\u001b[39m*\u001b[39margs, scalex\u001b[39m=\u001b[39m\u001b[39mTrue\u001b[39;00m, scaley\u001b[39m=\u001b[39m\u001b[39mTrue\u001b[39;00m, data\u001b[39m=\u001b[39m\u001b[39mNone\u001b[39;00m, \u001b[39m*\u001b[39m\u001b[39m*\u001b[39mkwargs):\n\u001b[1;32m-> <a href='file:///c%3A/Users/tento/Miniconda3/envs/gwmod/lib/site-packages/matplotlib/pyplot.py?line=2756'>2757</a>\u001b[0m     \u001b[39mreturn\u001b[39;00m gca()\u001b[39m.\u001b[39;49mplot(\n\u001b[0;32m   <a href='file:///c%3A/Users/tento/Miniconda3/envs/gwmod/lib/site-packages/matplotlib/pyplot.py?line=2757'>2758</a>\u001b[0m         \u001b[39m*\u001b[39;49margs, scalex\u001b[39m=\u001b[39;49mscalex, scaley\u001b[39m=\u001b[39;49mscaley,\n\u001b[0;32m   <a href='file:///c%3A/Users/tento/Miniconda3/envs/gwmod/lib/site-packages/matplotlib/pyplot.py?line=2758'>2759</a>\u001b[0m         \u001b[39m*\u001b[39;49m\u001b[39m*\u001b[39;49m({\u001b[39m\"\u001b[39;49m\u001b[39mdata\u001b[39;49m\u001b[39m\"\u001b[39;49m: data} \u001b[39mif\u001b[39;49;00m data \u001b[39mis\u001b[39;49;00m \u001b[39mnot\u001b[39;49;00m \u001b[39mNone\u001b[39;49;00m \u001b[39melse\u001b[39;49;00m {}), \u001b[39m*\u001b[39;49m\u001b[39m*\u001b[39;49mkwargs)\n",
      "File \u001b[1;32m~\\Miniconda3\\envs\\gwmod\\lib\\site-packages\\matplotlib\\axes\\_axes.py:1632\u001b[0m, in \u001b[0;36mAxes.plot\u001b[1;34m(self, scalex, scaley, data, *args, **kwargs)\u001b[0m\n\u001b[0;32m   <a href='file:///c%3A/Users/tento/Miniconda3/envs/gwmod/lib/site-packages/matplotlib/axes/_axes.py?line=1389'>1390</a>\u001b[0m \u001b[39m\"\"\"\u001b[39;00m\n\u001b[0;32m   <a href='file:///c%3A/Users/tento/Miniconda3/envs/gwmod/lib/site-packages/matplotlib/axes/_axes.py?line=1390'>1391</a>\u001b[0m \u001b[39mPlot y versus x as lines and/or markers.\u001b[39;00m\n\u001b[0;32m   <a href='file:///c%3A/Users/tento/Miniconda3/envs/gwmod/lib/site-packages/matplotlib/axes/_axes.py?line=1391'>1392</a>\u001b[0m \n\u001b[1;32m   (...)\u001b[0m\n\u001b[0;32m   <a href='file:///c%3A/Users/tento/Miniconda3/envs/gwmod/lib/site-packages/matplotlib/axes/_axes.py?line=1628'>1629</a>\u001b[0m \u001b[39m(``'green'``) or hex strings (``'#008000'``).\u001b[39;00m\n\u001b[0;32m   <a href='file:///c%3A/Users/tento/Miniconda3/envs/gwmod/lib/site-packages/matplotlib/axes/_axes.py?line=1629'>1630</a>\u001b[0m \u001b[39m\"\"\"\u001b[39;00m\n\u001b[0;32m   <a href='file:///c%3A/Users/tento/Miniconda3/envs/gwmod/lib/site-packages/matplotlib/axes/_axes.py?line=1630'>1631</a>\u001b[0m kwargs \u001b[39m=\u001b[39m cbook\u001b[39m.\u001b[39mnormalize_kwargs(kwargs, mlines\u001b[39m.\u001b[39mLine2D)\n\u001b[1;32m-> <a href='file:///c%3A/Users/tento/Miniconda3/envs/gwmod/lib/site-packages/matplotlib/axes/_axes.py?line=1631'>1632</a>\u001b[0m lines \u001b[39m=\u001b[39m [\u001b[39m*\u001b[39m\u001b[39mself\u001b[39m\u001b[39m.\u001b[39m_get_lines(\u001b[39m*\u001b[39margs, data\u001b[39m=\u001b[39mdata, \u001b[39m*\u001b[39m\u001b[39m*\u001b[39mkwargs)]\n\u001b[0;32m   <a href='file:///c%3A/Users/tento/Miniconda3/envs/gwmod/lib/site-packages/matplotlib/axes/_axes.py?line=1632'>1633</a>\u001b[0m \u001b[39mfor\u001b[39;00m line \u001b[39min\u001b[39;00m lines:\n\u001b[0;32m   <a href='file:///c%3A/Users/tento/Miniconda3/envs/gwmod/lib/site-packages/matplotlib/axes/_axes.py?line=1633'>1634</a>\u001b[0m     \u001b[39mself\u001b[39m\u001b[39m.\u001b[39madd_line(line)\n",
      "File \u001b[1;32m~\\Miniconda3\\envs\\gwmod\\lib\\site-packages\\matplotlib\\axes\\_base.py:312\u001b[0m, in \u001b[0;36m_process_plot_var_args.__call__\u001b[1;34m(self, data, *args, **kwargs)\u001b[0m\n\u001b[0;32m    <a href='file:///c%3A/Users/tento/Miniconda3/envs/gwmod/lib/site-packages/matplotlib/axes/_base.py?line=309'>310</a>\u001b[0m     this \u001b[39m+\u001b[39m\u001b[39m=\u001b[39m args[\u001b[39m0\u001b[39m],\n\u001b[0;32m    <a href='file:///c%3A/Users/tento/Miniconda3/envs/gwmod/lib/site-packages/matplotlib/axes/_base.py?line=310'>311</a>\u001b[0m     args \u001b[39m=\u001b[39m args[\u001b[39m1\u001b[39m:]\n\u001b[1;32m--> <a href='file:///c%3A/Users/tento/Miniconda3/envs/gwmod/lib/site-packages/matplotlib/axes/_base.py?line=311'>312</a>\u001b[0m \u001b[39myield from\u001b[39;00m \u001b[39mself\u001b[39;49m\u001b[39m.\u001b[39;49m_plot_args(this, kwargs)\n",
      "File \u001b[1;32m~\\Miniconda3\\envs\\gwmod\\lib\\site-packages\\matplotlib\\axes\\_base.py:498\u001b[0m, in \u001b[0;36m_process_plot_var_args._plot_args\u001b[1;34m(self, tup, kwargs, return_kwargs)\u001b[0m\n\u001b[0;32m    <a href='file:///c%3A/Users/tento/Miniconda3/envs/gwmod/lib/site-packages/matplotlib/axes/_base.py?line=494'>495</a>\u001b[0m     \u001b[39mself\u001b[39m\u001b[39m.\u001b[39maxes\u001b[39m.\u001b[39myaxis\u001b[39m.\u001b[39mupdate_units(y)\n\u001b[0;32m    <a href='file:///c%3A/Users/tento/Miniconda3/envs/gwmod/lib/site-packages/matplotlib/axes/_base.py?line=496'>497</a>\u001b[0m \u001b[39mif\u001b[39;00m x\u001b[39m.\u001b[39mshape[\u001b[39m0\u001b[39m] \u001b[39m!=\u001b[39m y\u001b[39m.\u001b[39mshape[\u001b[39m0\u001b[39m]:\n\u001b[1;32m--> <a href='file:///c%3A/Users/tento/Miniconda3/envs/gwmod/lib/site-packages/matplotlib/axes/_base.py?line=497'>498</a>\u001b[0m     \u001b[39mraise\u001b[39;00m \u001b[39mValueError\u001b[39;00m(\u001b[39mf\u001b[39m\u001b[39m\"\u001b[39m\u001b[39mx and y must have same first dimension, but \u001b[39m\u001b[39m\"\u001b[39m\n\u001b[0;32m    <a href='file:///c%3A/Users/tento/Miniconda3/envs/gwmod/lib/site-packages/matplotlib/axes/_base.py?line=498'>499</a>\u001b[0m                      \u001b[39mf\u001b[39m\u001b[39m\"\u001b[39m\u001b[39mhave shapes \u001b[39m\u001b[39m{\u001b[39;00mx\u001b[39m.\u001b[39mshape\u001b[39m}\u001b[39;00m\u001b[39m and \u001b[39m\u001b[39m{\u001b[39;00my\u001b[39m.\u001b[39mshape\u001b[39m}\u001b[39;00m\u001b[39m\"\u001b[39m)\n\u001b[0;32m    <a href='file:///c%3A/Users/tento/Miniconda3/envs/gwmod/lib/site-packages/matplotlib/axes/_base.py?line=499'>500</a>\u001b[0m \u001b[39mif\u001b[39;00m x\u001b[39m.\u001b[39mndim \u001b[39m>\u001b[39m \u001b[39m2\u001b[39m \u001b[39mor\u001b[39;00m y\u001b[39m.\u001b[39mndim \u001b[39m>\u001b[39m \u001b[39m2\u001b[39m:\n\u001b[0;32m    <a href='file:///c%3A/Users/tento/Miniconda3/envs/gwmod/lib/site-packages/matplotlib/axes/_base.py?line=500'>501</a>\u001b[0m     \u001b[39mraise\u001b[39;00m \u001b[39mValueError\u001b[39;00m(\u001b[39mf\u001b[39m\u001b[39m\"\u001b[39m\u001b[39mx and y can be no greater than 2D, but have \u001b[39m\u001b[39m\"\u001b[39m\n\u001b[0;32m    <a href='file:///c%3A/Users/tento/Miniconda3/envs/gwmod/lib/site-packages/matplotlib/axes/_base.py?line=501'>502</a>\u001b[0m                      \u001b[39mf\u001b[39m\u001b[39m\"\u001b[39m\u001b[39mshapes \u001b[39m\u001b[39m{\u001b[39;00mx\u001b[39m.\u001b[39mshape\u001b[39m}\u001b[39;00m\u001b[39m and \u001b[39m\u001b[39m{\u001b[39;00my\u001b[39m.\u001b[39mshape\u001b[39m}\u001b[39;00m\u001b[39m\"\u001b[39m)\n",
      "\u001b[1;31mValueError\u001b[0m: x and y must have same first dimension, but have shapes (2,) and (36,)"
     ]
    },
    {
     "data": {
      "image/png": "[encoded data removed]",
      "text/plain": [
       "<Figure size 432x288 with 1 Axes>"
      ]
     },
     "metadata": {
      "needs_background": "light"
     },
     "output_type": "display_data"
    }
   ],
   "source": [
    "#Try to plot a single timestep\n",
    "plt.subplot(1, 1, 1)\n",
    "plt.title(\"Head at Aquaseca Well\",fontweight='bold')\n",
    "plt.xlabel('time (years)',fontweight='bold')\n",
    "plt.ylabel('head (m)',fontweight='bold')\n",
    "# plt.ylim(75.2,75.8)\n",
    "for j in range(len(ensembles)):\n",
    "    label = 'Ensemble ' + str(j)\n",
    "    plt.plot(head_ts[j][:, 0]/360, head_ts[j][:, 1], label=label) #plot the time series with points at each record\n",
    "plt.legend(bbox_to_anchor=(1.2, 0.5), loc='center', ncol=1)\n",
    "plt.savefig(\"Head_Aqua_ensem.png\",dpi=600)\n",
    "plt.show()"
   ]
  },
  {
   "cell_type": "markdown",
   "metadata": {},
   "source": [
    "### Head at observation well\n",
    "plt.subplot(1, 1, 1)\n",
    "plt.title(\"Head at MW1\",fontweight='bold')\n",
    "plt.xlabel('time (days)',fontweight='bold')\n",
    "plt.ylabel('head (m)',fontweight='bold')\n",
    "for j in range(len(ensembles)):\n",
    "    label = 'Ensemble ' + str(j)\n",
    "    plt.plot(mw1_head_ts[j][:, 0]/360, mw1_head_ts[j][:, 1], label=label) #plot the time series with points at each record\n",
    "plt.legend(bbox_to_anchor=(1.2, 0.5), loc='center', ncol=1)\n",
    "plt.savefig(\"Head_M1_ensem.png\",dpi=600)\n",
    "plt.show()"
   ]
  },
  {
   "cell_type": "code",
   "execution_count": 8,
   "metadata": {},
   "outputs": [
    {
     "data": {
      "image/png": "[encoded data removed]",
      "text/plain": [
       "<Figure size 432x288 with 1 Axes>"
      ]
     },
     "metadata": {
      "needs_background": "light"
     },
     "output_type": "display_data"
    }
   ],
   "source": [
    "#Ag Well Plot\n",
    "plt.subplot(1, 1, 1)\n",
    "plt.title(\"Head at Ag Well\",fontweight='bold')\n",
    "plt.xlabel('time (days)',fontweight='bold')\n",
    "plt.ylabel('head (m)',fontweight='bold')\n",
    "for j in range(len(ensembles)):\n",
    "    label = 'Ensemble ' + str(j)\n",
    "    plt.plot(ag_head_ts[j][:, 0]/360, ag_head_ts[j][:, 1], label=label) #plot the time series with points at each record\n",
    "\n",
    "plt.legend(bbox_to_anchor=(1.2, 0.5), loc='center', ncol=1)\n",
    "plt.savefig(\"Head_irri_ensem.png\",dpi=600)\n",
    "plt.show()"
   ]
  },
  {
   "cell_type": "markdown",
   "metadata": {},
   "source": [
    "## Get one value for each model at ag well"
   ]
  },
  {
   "cell_type": "code",
   "execution_count": null,
   "metadata": {},
   "outputs": [],
   "source": []
  },
  {
   "cell_type": "markdown",
   "metadata": {},
   "source": [
    "## Alternate approach: Read in variables and store as dictionaries"
   ]
  },
  {
   "cell_type": "code",
   "execution_count": 9,
   "metadata": {},
   "outputs": [],
   "source": [
    "#setup some structures to store data in \n",
    "head = np.tile({}, n_ens)\n",
    "leakage = np.tile({}, n_ens)\n",
    "fff = np.tile({}, n_ens)\n",
    "stor = np.tile({}, n_ens)\n",
    "recharge = np.tile({}, n_ens)\n",
    "et = np.tile({}, n_ens)\n",
    "frf = np.tile({}, n_ens)\n",
    "\n",
    "\n",
    "# Loop through the ensembles and read the data\n",
    "root_name = 'ensemble_' #root of the run names\n",
    "for i in range(len(ensembles)):\n",
    "    name = root_name  #Create the file name from list \n",
    "    for k in range(len(ensembles[i])):\n",
    "        string = str(ensembles[i][k])\n",
    "        name = name + string   \n",
    "                   \n",
    "    head[i] = {}\n",
    "    leakage[i] = {}\n",
    "    fff[i] = {}\n",
    "    stor[i] = {}\n",
    "    recharge[i] = {}\n",
    "    et[i] = {}\n",
    "    frf[i] = {}\n",
    "\n",
    "    #read in the head and water budget files\n",
    "    headobj = flopy.utils.binaryfile.HeadFile(name+'.hds')\n",
    "    budgobj = flopy.utils.binaryfile.CellBudgetFile(name+'.cbc')\n",
    "   \n",
    "    #store the complete arrays in dictionaries\n",
    "    for stress_per, time in enumerate(times): #iterate through times at end of each stress period\n",
    "        head[i]['sp%s'%(stress_per)] = headobj.get_data(totim=time) #append heads to head list for ea stress per\n",
    "        leakage[i]['sp%s'%(stress_per)] = budgobj.get_data(text='RIVER LEAKAGE',totim=time) #append right face flow to frf list for ea stress per\n",
    "        fff[i]['sp%s'%(stress_per)] = budgobj.get_data(text='FLOW FRONT FACE',totim=time) #append front face flow to fff list for ea stress per\n",
    "        frf[i]['sp%s'%(stress_per)] = budgobj.get_data(text='flow right face', totim=time)\n",
    "        stor[i]['sp%s'%(stress_per)] = budgobj.get_data(text='STORAGE',totim=time)\n",
    "        recharge[i]['sp%s'%(stress_per)] = budgobj.get_data(text='RECHARGE', totim=time) \n",
    "        et[i]['sp%s'%(stress_per)] = budgobj.get_data(text='ET', totim=time) "
   ]
  },
  {
   "cell_type": "code",
   "execution_count": 10,
   "metadata": {},
   "outputs": [
    {
     "name": "stdout",
     "output_type": "stream",
     "text": [
      "# ensembles, # timesteps, # layers, # nrow, # ncol\n",
      "(10, 36, 3, 50, 50)\n"
     ]
    }
   ],
   "source": [
    "#to specify the head at a point, indicate the row and column\n",
    "print('# ensembles, # timesteps, # layers, # nrow, # ncol') \n",
    "print(np.shape(head_array))\n"
   ]
  },
  {
   "cell_type": "code",
   "execution_count": 11,
   "metadata": {},
   "outputs": [
    {
     "name": "stdout",
     "output_type": "stream",
     "text": [
      "65.47427368164062\n",
      "town top layer\n",
      "68.09163665771484\n"
     ]
    }
   ],
   "source": [
    "#single head value at town well location\n",
    "print(head_array[0,0,2,21,38])  #1st model, 1st timestep, bottom layer, 21, 38 (town well row and column)\n",
    "#town loc, top layer\n",
    "print('town top layer')\n",
    "print(head_array[0,0,0,21,38])"
   ]
  },
  {
   "cell_type": "markdown",
   "metadata": {},
   "source": [
    "#### Plot head contours"
   ]
  },
  {
   "cell_type": "code",
   "execution_count": 12,
   "metadata": {},
   "outputs": [
    {
     "ename": "NameError",
     "evalue": "name 'm' is not defined",
     "output_type": "error",
     "traceback": [
      "\u001b[1;31m---------------------------------------------------------------------------\u001b[0m",
      "\u001b[1;31mNameError\u001b[0m                                 Traceback (most recent call last)",
      "\u001b[1;32mc:\\Users\\tento\\Documents\\GW_Modeling\\homework-akahler03\\Working\\HW14_FinalProject\\Project_Ensemble_anaylsis.ipynb Cell 23'\u001b[0m in \u001b[0;36m<module>\u001b[1;34m\u001b[0m\n\u001b[0;32m      <a href='vscode-notebook-cell:/c%3A/Users/tento/Documents/GW_Modeling/homework-akahler03/Working/HW14_FinalProject/Project_Ensemble_anaylsis.ipynb#ch0000022?line=0'>1</a>\u001b[0m \u001b[39m#####################################################################\u001b[39;00m\n\u001b[0;32m      <a href='vscode-notebook-cell:/c%3A/Users/tento/Documents/GW_Modeling/homework-akahler03/Working/HW14_FinalProject/Project_Ensemble_anaylsis.ipynb#ch0000022?line=1'>2</a>\u001b[0m \u001b[39m# Plotting heads and flow arrows\u001b[39;00m\n\u001b[0;32m      <a href='vscode-notebook-cell:/c%3A/Users/tento/Documents/GW_Modeling/homework-akahler03/Working/HW14_FinalProject/Project_Ensemble_anaylsis.ipynb#ch0000022?line=2'>3</a>\u001b[0m plt\u001b[39m.\u001b[39mfigure() \n\u001b[1;32m----> <a href='vscode-notebook-cell:/c%3A/Users/tento/Documents/GW_Modeling/homework-akahler03/Working/HW14_FinalProject/Project_Ensemble_anaylsis.ipynb#ch0000022?line=3'>4</a>\u001b[0m modelmap \u001b[39m=\u001b[39m flopy\u001b[39m.\u001b[39mplot\u001b[39m.\u001b[39mPlotMapView(model\u001b[39m=\u001b[39mm, layer\u001b[39m=\u001b[39m\u001b[39m0\u001b[39m) \u001b[39m#use modelmap to attach plot to model\u001b[39;00m\n\u001b[0;32m      <a href='vscode-notebook-cell:/c%3A/Users/tento/Documents/GW_Modeling/homework-akahler03/Working/HW14_FinalProject/Project_Ensemble_anaylsis.ipynb#ch0000022?line=5'>6</a>\u001b[0m contour_levels \u001b[39m=\u001b[39m np\u001b[39m.\u001b[39mlinspace(head[\u001b[39m0\u001b[39m]\u001b[39m.\u001b[39mmin(),head[\u001b[39m0\u001b[39m]\u001b[39m.\u001b[39mmax(),\u001b[39m15\u001b[39m) \u001b[39m#set contour levels for contouring head\u001b[39;00m\n\u001b[0;32m      <a href='vscode-notebook-cell:/c%3A/Users/tento/Documents/GW_Modeling/homework-akahler03/Working/HW14_FinalProject/Project_Ensemble_anaylsis.ipynb#ch0000022?line=6'>7</a>\u001b[0m head_contours \u001b[39m=\u001b[39m modelmap\u001b[39m.\u001b[39mcontour_array(head, levels\u001b[39m=\u001b[39mcontour_levels) \u001b[39m#create head contours\u001b[39;00m\n",
      "\u001b[1;31mNameError\u001b[0m: name 'm' is not defined"
     ]
    },
    {
     "data": {
      "text/plain": [
       "<Figure size 432x288 with 0 Axes>"
      ]
     },
     "metadata": {},
     "output_type": "display_data"
    }
   ],
   "source": [
    "#####################################################################\n",
    "# Plotting heads and flow arrows\n",
    "plt.figure() \n",
    "modelmap = flopy.plot.PlotMapView(model=m, layer=0) #use modelmap to attach plot to model\n",
    "\n",
    "contour_levels = np.linspace(head[0].min(),head[0].max(),15) #set contour levels for contouring head\n",
    "head_contours = modelmap.contour_array(head, levels=contour_levels) #create head contours\n",
    "flows = modelmap.plot_discharge(frf[0], fff[0], head=head) #create discharge arrows\n",
    "#display parameters\n",
    "plt.xlabel('Lx (m)',fontsize = 14)\n",
    "plt.ylabel('Ly (m)',fontsize = 14)\n",
    "#plt.title('Steady-State Pumping, Flow(f^3/d) and Head(m) Results', fontsize = 15, fontweight = 'bold')\n",
    "plt.colorbar(head_contours, aspect=5)\n",
    "plt.show(modelmap)"
   ]
  },
  {
   "cell_type": "code",
   "execution_count": null,
   "metadata": {},
   "outputs": [],
   "source": [
    "plt.figure() \n",
    "modelmap = flopy.plot.PlotMapView(model=m, layer=0) #use modelmap to attach plot to model"
   ]
  },
  {
   "cell_type": "code",
   "execution_count": null,
   "metadata": {},
   "outputs": [],
   "source": []
  }
 ],
 "metadata": {
  "kernelspec": {
   "display_name": "Python 3",
   "language": "python",
   "name": "python3"
  },
  "language_info": {
   "codemirror_mode": {
    "name": "ipython",
    "version": 3
   },
   "file_extension": ".py",
   "mimetype": "text/x-python",
   "name": "python",
   "nbconvert_exporter": "python",
   "pygments_lexer": "ipython3",
   "version": "3.8.12"
  }
 },
 "nbformat": 4,
 "nbformat_minor": 4
}
